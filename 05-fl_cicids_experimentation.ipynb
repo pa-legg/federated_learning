{
 "cells": [
  {
   "cell_type": "markdown",
   "id": "1ee2ad1b-d745-4a7b-bc06-8fe8d614d8ff",
   "metadata": {},
   "source": [
    "# Federated Learning Case Study\n",
    "\n",
    "## 05. FL CICIDS - Experimentation with different client configurations\n",
    "\n",
    "In this notebook, we devise a set of client configurations based on how the training data could be split across these. We use four schemes: individual IPs, individual attacks, group of IPs (based on similar OS), and group of attacks (based on name/type similarity).\n",
    "\n",
    "We use our previous model and can deploy each of these scenarios to the FL process."
   ]
  },
  {
   "cell_type": "code",
   "execution_count": 6,
   "id": "f2c4c1ac",
   "metadata": {},
   "outputs": [
    {
     "name": "stdout",
     "output_type": "stream",
     "text": [
      "STRATIFIED\n"
     ]
    }
   ],
   "source": [
    "### THIS SECTION NEEDS TO BE SET TO DETERMINE WHICH CONFIGURATION METHOD TO UTILISE\n",
    "\n",
    "AVAILABLE_METHODS = ['INDIVIDUAL_IP', 'GROUP_IP', 'INDIVIDUAL_ATTACK', 'GROUP_ATTACK', 'STRATIFIED']\n",
    "METHOD = AVAILABLE_METHODS[4]\n",
    "NUM_OF_STRATIFIED_CLIENTS = 10 # only applies to stratified method\n",
    "print (METHOD)"
   ]
  },
  {
   "cell_type": "code",
   "execution_count": 7,
   "id": "0fefb66e",
   "metadata": {},
   "outputs": [],
   "source": [
    "import pandas as pd\n",
    "import numpy as np"
   ]
  },
  {
   "cell_type": "code",
   "execution_count": 8,
   "id": "ccf064e8",
   "metadata": {},
   "outputs": [],
   "source": [
    "feature_df = pd.read_pickle('full_cicids_df.pkl')\n",
    "# feature_df.head(5)"
   ]
  },
  {
   "cell_type": "code",
   "execution_count": 9,
   "id": "9b41e853",
   "metadata": {},
   "outputs": [
    {
     "name": "stdout",
     "output_type": "stream",
     "text": [
      "Train: (1680016, 76) (1680016,)\n",
      "Test: (420005, 76) (420005,)\n"
     ]
    }
   ],
   "source": [
    "from sklearn import preprocessing\n",
    "from sklearn.model_selection import train_test_split\n",
    "from sklearn.preprocessing import StandardScaler\n",
    "from sklearn.preprocessing import MinMaxScaler\n",
    "\n",
    "# Pre-processing to tidy up NaN values\n",
    "feature_df2 = feature_df.replace([np.inf, - np.inf], np.nan)\n",
    "feature_df2 = feature_df2.dropna()    \n",
    "label = feature_df2['Label']\n",
    "le = preprocessing.LabelEncoder()\n",
    "label_n = le.fit_transform(label.values)\n",
    "\n",
    "X_train_df, X_test_df, y_train_df, y_test_df = train_test_split(feature_df2, label_n, stratify=label_n, test_size=0.2, random_state=42)\n",
    "#feature_df2 = feature_df2.drop(['Flow ID', 'Src IP', 'Dst IP', 'Timestamp', 'Label'], axis=1)\n",
    "feature_df2 = feature_df2.drop(['Flow ID', 'Src IP', 'Src Port', 'Dst IP', 'Dst Port', 'Protocol', 'Timestamp', 'Label'], axis=1)\n",
    "\n",
    "# Scaling of features to fit within defined range\n",
    "scaled_features = StandardScaler().fit_transform(feature_df2.values)\n",
    "X_train, X_test, y_train, y_test = train_test_split(scaled_features, label_n, stratify=label_n, test_size=0.2, random_state=42)\n",
    "\n",
    "print (\"Train:\", X_train.shape, y_train.shape)\n",
    "print (\"Test:\", X_test.shape, y_test.shape)"
   ]
  },
  {
   "cell_type": "code",
   "execution_count": 10,
   "id": "dbccac9b",
   "metadata": {},
   "outputs": [
    {
     "name": "stdout",
     "output_type": "stream",
     "text": [
      "known ip addresses: ['192.168.10.25', '192.168.10.15', '192.168.10.14', '192.168.10.8', '192.168.10.5', '192.168.10.9', '192.168.10.12', '192.168.10.16', '192.168.10.17', '192.168.10.19', '192.168.10.51', '192.168.10.50']\n",
      "os_groups: [['192.168.10.25'], ['192.168.10.15', '192.168.10.14', '192.168.10.8', '192.168.10.5', '192.168.10.9'], ['192.168.10.12', '192.168.10.16', '192.168.10.17', '192.168.10.19', '192.168.10.51', '205.174.165.66'], ['192.168.10.50', '205.174.165.68']]\n"
     ]
    }
   ],
   "source": [
    "known_ip_addresses = [ '192.168.10.25', '192.168.10.15', '192.168.10.14', '192.168.10.8', '192.168.10.5', '192.168.10.9', '192.168.10.12', '192.168.10.16', '192.168.10.17', '192.168.10.19', '192.168.10.51', '192.168.10.50']\n",
    "print (\"known ip addresses:\", known_ip_addresses)\n",
    "os_groups = [ ['192.168.10.25'],  #macOS\n",
    "                ['192.168.10.15', '192.168.10.14', '192.168.10.8', '192.168.10.5', '192.168.10.9'], #win\n",
    "                ['192.168.10.12', '192.168.10.16', '192.168.10.17', '192.168.10.19', '192.168.10.51', '205.174.165.66'], #ubuntu\n",
    "                ['192.168.10.50', '205.174.165.68'], # webserver\n",
    "                ]\n",
    "print (\"os_groups:\", os_groups)\n"
   ]
  },
  {
   "cell_type": "code",
   "execution_count": 11,
   "id": "845c12a2",
   "metadata": {},
   "outputs": [],
   "source": [
    "attacks = label.unique()\n",
    "attack_groups = [['BENIGN'],\n",
    "                    ['DoS slowloris',\n",
    "       'DoS slowloris - Attempted', 'DoS Slowhttptest',\n",
    "       'DoS Slowhttptest - Attempted', 'DoS Hulk', 'DoS Hulk - Attempted',\n",
    "       'DoS GoldenEye', 'DDoS'],\n",
    "                    ['FTP-Patator', 'SSH-Patator', 'FTP-Patator - Attempted',\n",
    "       'SSH-Patator - Attempted'],\n",
    "                    ['Heartbleed'],\n",
    "                    ['Web Attack - Brute Force', 'Web Attack - Brute Force - Attempted', 'Web Attack - XSS - Attempted', 'Web Attack - XSS',\n",
    "       'Web Attack - Sql Injection'], \n",
    "                    ['Bot - Attempted', 'Bot'],\n",
    "                    ['PortScan'],\n",
    "                    ['Infiltration - Attempted', 'Infiltration']\n",
    "]"
   ]
  },
  {
   "cell_type": "code",
   "execution_count": 12,
   "id": "8fe7d616",
   "metadata": {},
   "outputs": [
    {
     "name": "stderr",
     "output_type": "stream",
     "text": [
      "C:\\Users\\pa-legg\\AppData\\Roaming\\Python\\Python39\\site-packages\\sklearn\\model_selection\\_split.py:680: UserWarning: The least populated class in y has only 6 members, which is less than n_splits=10.\n",
      "  warnings.warn(\n"
     ]
    }
   ],
   "source": [
    "fl_X_train = []\n",
    "fl_y_train = []\n",
    "\n",
    "if METHOD == AVAILABLE_METHODS[0]:\n",
    "    #### Group by individual IP (src and dst)\n",
    "    for i in known_ip_addresses:\n",
    "        new_i = [i]\n",
    "        print (new_i)\n",
    "        new_df_src = X_train_df[ X_train_df['Src IP'].isin(new_i) ]\n",
    "        new_df_dst = X_train_df[ X_train_df['Dst IP'].isin(new_i) ]\n",
    "        #new_df = pd.concat([new_df1, new_df2], axis=0)\n",
    "\n",
    "        X_np = np.vstack([ X_train[ new_df_src.index, : ], X_train[ new_df_dst.index, :] ])\n",
    "        y_np = np.hstack([ y_train[ new_df_src.index ], y_train[ new_df_dst.index ] ])\n",
    "\n",
    "        print (X_np.shape)\n",
    "        print (y_np.shape)\n",
    "\n",
    "        fl_X_train.append(X_np)\n",
    "        fl_y_train.append(y_np) \n",
    "elif METHOD == AVAILABLE_METHODS[1]:\n",
    "    #### Group by OS (src and dst)\n",
    "\n",
    "    for i in os_groups:\n",
    "        new_i = i\n",
    "        print (new_i)\n",
    "        new_df_src = X_train_df[ X_train_df['Src IP'].isin(new_i) ]\n",
    "        new_df_dst = X_train_df[ X_train_df['Dst IP'].isin(new_i) ]\n",
    "        #new_df = pd.concat([new_df1, new_df2], axis=0)\n",
    "\n",
    "        X_np = np.vstack([ X_train[ new_df_src.index, : ], X_train[ new_df_dst.index, :] ])\n",
    "        y_np = np.hstack([ y_train[ new_df_src.index ], y_train[ new_df_dst.index ] ])\n",
    "\n",
    "        print (X_np.shape)\n",
    "        print (y_np.shape)\n",
    "\n",
    "        fl_X_train.append(X_np)\n",
    "        fl_y_train.append(y_np) \n",
    "elif METHOD == AVAILABLE_METHODS[2]:\n",
    "    #### Group by individual attack\n",
    "    for i in attacks:\n",
    "        new_i = [i]\n",
    "        print (new_i)\n",
    "        new_df_attack = X_train_df[ X_train_df['Label'].isin(new_i) ]\n",
    "        #new_df = pd.concat([new_df1, new_df2], axis=0)\n",
    "\n",
    "        X_np = X_train[ new_df_attack.index, : ]\n",
    "        y_np = y_train[ new_df_attack.index ]\n",
    "\n",
    "        print (X_np.shape)\n",
    "        print (y_np.shape)\n",
    "\n",
    "        fl_X_train.append(X_np)\n",
    "        fl_y_train.append(y_np)\n",
    "elif METHOD == AVAILABLE_METHODS[3]:\n",
    "    #### Group by attack group\n",
    "\n",
    "    for i in attack_groups:\n",
    "        new_i = i\n",
    "        print (new_i)\n",
    "        new_df_attack_group = X_train_df[ X_train_df['Label'].isin(new_i) ]\n",
    "\n",
    "        X_np = X_train[ new_df_attack_group.index, : ]\n",
    "        y_np = y_train[ new_df_attack_group.index ]\n",
    "\n",
    "        print (X_np.shape)\n",
    "        print (y_np.shape)\n",
    "\n",
    "        fl_X_train.append(X_np)\n",
    "        fl_y_train.append(y_np) \n",
    "elif METHOD == AVAILABLE_METHODS[4]:\n",
    "    ## 1. STRATIFIED SAMPLING\n",
    "    from sklearn.model_selection import StratifiedKFold\n",
    "    \n",
    "\n",
    "    skf = StratifiedKFold(n_splits=NUM_OF_STRATIFIED_CLIENTS, shuffle=True, random_state=42)\n",
    "    skf.get_n_splits(X_train, y_train)\n",
    "\n",
    "    for _, test_index in skf.split(X_train, y_train):\n",
    "        fl_X_train.append(X_train[test_index])\n",
    "        fl_y_train.append(y_train[test_index]) "
   ]
  },
  {
   "cell_type": "code",
   "execution_count": 13,
   "id": "8cdad252",
   "metadata": {},
   "outputs": [
    {
     "data": {
      "text/plain": [
       "25"
      ]
     },
     "execution_count": 13,
     "metadata": {},
     "output_type": "execute_result"
    }
   ],
   "source": [
    "len(label.unique())"
   ]
  },
  {
   "cell_type": "code",
   "execution_count": null,
   "id": "1f53dfa9",
   "metadata": {},
   "outputs": [
    {
     "name": "stderr",
     "output_type": "stream",
     "text": [
      "INFO flower 2022-11-12 23:57:08,527 | app.py:142 | Starting Flower simulation, config: ServerConfig(num_rounds=5, round_timeout=None)\n"
     ]
    },
    {
     "name": "stdout",
     "output_type": "stream",
     "text": [
      "NUM_OF_CLIENTS: 10\n",
      "Checking data split groups\n",
      "0 : X shape (168002, 76)  Y shape: (168002,)\n",
      "1 : X shape (168002, 76)  Y shape: (168002,)\n",
      "2 : X shape (168002, 76)  Y shape: (168002,)\n",
      "3 : X shape (168002, 76)  Y shape: (168002,)\n",
      "4 : X shape (168002, 76)  Y shape: (168002,)\n",
      "5 : X shape (168002, 76)  Y shape: (168002,)\n",
      "6 : X shape (168001, 76)  Y shape: (168001,)\n",
      "7 : X shape (168001, 76)  Y shape: (168001,)\n",
      "8 : X shape (168001, 76)  Y shape: (168001,)\n",
      "9 : X shape (168001, 76)  Y shape: (168001,)\n",
      "Importing Federated Learning environment...\n",
      "flwr 1.0.0\n",
      "numpy 1.22.4\n",
      "tf 2.10.0\n",
      "Deploy simulation...\n"
     ]
    },
    {
     "name": "stderr",
     "output_type": "stream",
     "text": [
      "INFO flower 2022-11-12 23:57:15,225 | app.py:176 | Flower VCE: Ray initialized with resources: {'CPU': 8.0, 'object_store_memory': 2840039424.0, 'memory': 5680078848.0, 'node:127.0.0.1': 1.0}\n",
      "INFO flower 2022-11-12 23:57:15,226 | server.py:86 | Initializing global parameters\n",
      "INFO flower 2022-11-12 23:57:15,226 | server.py:270 | Requesting initial parameters from one random client\n",
      "INFO flower 2022-11-12 23:57:19,498 | server.py:274 | Received initial parameters from one random client\n",
      "INFO flower 2022-11-12 23:57:19,498 | server.py:88 | Evaluating initial parameters\n"
     ]
    },
    {
     "name": "stdout",
     "output_type": "stream",
     "text": [
      "\u001b[2m\u001b[36m(launch_and_get_parameters pid=16980)\u001b[0m Client ID: 4\n",
      "Server Evaluating... 0\n",
      "13126/13126 [==============================] - 18s 1ms/step - loss: 4.6758 - accuracy: 0.0757\n",
      "13126/13126 [==============================] - 15s 1ms/step\n"
     ]
    },
    {
     "name": "stderr",
     "output_type": "stream",
     "text": [
      "INFO flower 2022-11-12 23:57:56,593 | server.py:91 | initial parameters (loss, other metrics): 4.675826072692871, {'accuracy': 0.07572528719902039}\n",
      "INFO flower 2022-11-12 23:57:56,594 | server.py:101 | FL starting\n",
      "DEBUG flower 2022-11-12 23:57:56,594 | server.py:215 | fit_round 1: strategy sampled 10 clients (out of 10)\n"
     ]
    },
    {
     "name": "stdout",
     "output_type": "stream",
     "text": [
      "Prediction:  [[0.16308181 0.58685106 0.56113946 ... 0.37951958 0.18041061 0.7316176 ]\n",
      " [0.16214408 0.5855421  0.5617373  ... 0.37820172 0.18073437 0.7304065 ]\n",
      " [0.17259018 0.5784344  0.5716239  ... 0.38119507 0.17648646 0.730586  ]\n",
      " ...\n",
      " [0.16280903 0.58615035 0.56174666 ... 0.37868437 0.18058917 0.73202527]\n",
      " [0.16901028 0.5821459  0.57853156 ... 0.38145435 0.17702825 0.7307726 ]\n",
      " [0.1637128  0.5878361  0.561694   ... 0.37881613 0.1805878  0.7326467 ]] (420005, 25)\n",
      "Server Evaluating complete... 0.07572528719902039 4.675826072692871\n"
     ]
    }
   ],
   "source": [
    "# CHECK IF THIS REMAINS THE SAME OR CHANGED\n",
    "NUM_OF_CLIENTS = len(fl_X_train)\n",
    "print (\"NUM_OF_CLIENTS:\", NUM_OF_CLIENTS)\n",
    "\n",
    "NUM_OF_ROUNDS = 5\n",
    "\n",
    "print (\"Checking data split groups\")\n",
    "for i in range(len(fl_X_train)):\n",
    "    print (i, ':', \"X shape\", fl_X_train[i].shape, \" Y shape:\" , fl_y_train[i].shape)\n",
    "\n",
    "print (\"Importing Federated Learning environment...\")\n",
    "\n",
    "import os\n",
    "import flwr as fl\n",
    "import numpy as np\n",
    "import tensorflow as tf\n",
    "print(\"flwr\", fl.__version__)\n",
    "print(\"numpy\", np.__version__)\n",
    "print(\"tf\", tf.__version__)\n",
    "# Make TensorFlow log less verbose\n",
    "os.environ[\"TF_CPP_MIN_LOG_LEVEL\"] = \"3\"\n",
    "\n",
    "from tensorflow.keras.models import Sequential\n",
    "from tensorflow.keras.layers import Flatten\n",
    "from tensorflow.keras.layers import Dense\n",
    "from tensorflow.keras.layers import Activation\n",
    "\n",
    "class NumpyFlowerClient(fl.client.NumPyClient):\n",
    "    def __init__(self, cid, model, train_data, train_labels):\n",
    "        self.model = model\n",
    "        self.cid = cid\n",
    "        self.train_data = train_data\n",
    "        self.train_labels = train_labels\n",
    "\n",
    "    def get_parameters(self, config):\n",
    "        return self.model.get_weights()\n",
    "\n",
    "    def fit(self, parameters, config):\n",
    "        self.model.set_weights(parameters)\n",
    "        print (\"Client \", self.cid, \"Training...\")\n",
    "        self.model.fit(self.train_data, self.train_labels, epochs=1, batch_size=32)\n",
    "        print (\"Client \", self.cid, \"Training complete...\")\n",
    "        return self.model.get_weights(), len(self.train_data), {}\n",
    "\n",
    "    def evaluate(self, parameters, config):\n",
    "        self.model.set_weights(parameters)\n",
    "        print (\"Client \", self.cid, \"Evaluating...\")\n",
    "        loss, accuracy = self.model.evaluate(self.train_data, self.train_labels, batch_size=32)\n",
    "        print (\"Client \", self.cid, \"Evaluating complete...\", accuracy, loss)\n",
    "        return loss, len(self.train_data), {\"accuracy\": accuracy}\n",
    "    \n",
    "    def predict(self, incoming):\n",
    "        prediction = np.argmax( self.model.predict(incoming) ,axis=1)\n",
    "        return prediction\n",
    "\n",
    "def client_fn(cid: str) -> NumpyFlowerClient:\n",
    "    \"\"\"Create a Flower client representing a single organization.\"\"\"\n",
    "\n",
    "    # Load model\n",
    "    #model = tf.keras.applications.MobileNetV2((32, 32, 3), classes=10, weights=None)\n",
    "    #model.compile(\"adam\", \"sparse_categorical_crossentropy\", metrics=[\"accuracy\"])\n",
    "\n",
    "    print (\"Client ID:\", cid)\n",
    "\n",
    "    model = Sequential([\n",
    "      #Flatten(input_shape=(79,1)),\n",
    "      Flatten(input_shape=(fl_X_train[0].shape[1] , 1)),\n",
    "      Dense(256, activation='sigmoid'),\n",
    "      Dense(128, activation='sigmoid'), \n",
    "      #Dense(18, activation='sigmoid'),  \n",
    "      Dense(len(label.unique()), activation='sigmoid')\n",
    "    ])\n",
    "    \n",
    "    model.compile(optimizer='adam', loss='sparse_categorical_crossentropy', metrics=['accuracy'])\n",
    "    \n",
    "    partition_id = int(cid)\n",
    "    X_train_c = fl_X_train[partition_id]\n",
    "    y_train_c = fl_y_train[partition_id]\n",
    "\n",
    "    # Create a  single Flower client representing a single organization\n",
    "    return NumpyFlowerClient(cid, model, X_train_c, y_train_c)\n",
    "\n",
    "\n",
    "print (\"Deploy simulation...\")\n",
    "\n",
    "from sklearn.metrics import confusion_matrix, ConfusionMatrixDisplay\n",
    "\n",
    "\n",
    "def get_evaluate_fn(server_model):\n",
    "    \"\"\"Return an evaluation function for server-side evaluation.\"\"\"\n",
    "    # The `evaluate` function will be called after every round\n",
    "    eval_count = 0\n",
    "    \n",
    "    def evaluate(server_round, parameters, config):\n",
    "        global eval_count\n",
    "        \n",
    "        # Update model with the latest parameters\n",
    "        server_model.set_weights(parameters)\n",
    "        print (\"Server Evaluating...\", eval_count)\n",
    "        loss, accuracy = server_model.evaluate(X_test, y_test)\n",
    "        \n",
    "        y_pred = server_model.predict(X_test)\n",
    "        print (\"Prediction: \", y_pred, y_pred.shape)\n",
    "        #cmatrix = confusion_matrix(y_test, np.rint(y_pred))\n",
    "        #print (\"confusion_matrix:\", cmatrix, cmatrix.shape)\n",
    "                        \n",
    "        print (\"Server Evaluating complete...\", accuracy, loss)\n",
    "        \n",
    "        np.save(\"y_pred-\" + str(eval_count) + \".npy\", y_pred)\n",
    "        #np.save(\"cmatrix-\" + str(eval_count) + \".npy\", cmatrix)\n",
    "        eval_count = eval_count + 1\n",
    "        \n",
    "        return loss, {\"accuracy\": accuracy}\n",
    "    return evaluate\n",
    "\n",
    "\n",
    "\n",
    "server_model = Sequential([\n",
    "      #Flatten(input_shape=(79,1)),\n",
    "      Flatten(input_shape=(fl_X_train[0].shape[1] , 1)),\n",
    "      Dense(256, activation='sigmoid'),\n",
    "      Dense(128, activation='sigmoid'), \n",
    "      #Dense(18, activation='sigmoid'),  \n",
    "      Dense(len(label.unique()), activation='sigmoid')\n",
    "    ])\n",
    "server_model.compile(optimizer='adam', loss='sparse_categorical_crossentropy', metrics=['accuracy'])\n",
    "\n",
    "\n",
    "\n",
    "\n",
    "# Create FedAvg strategy\n",
    "strategy = fl.server.strategy.FedAvg(\n",
    "        fraction_fit=1.0,\n",
    "        fraction_evaluate=0.5,\n",
    "        min_fit_clients=2, #10,\n",
    "        min_evaluate_clients=2, #5,\n",
    "        min_available_clients=2, #10,\n",
    "        evaluate_fn=get_evaluate_fn(server_model),\n",
    "        #evaluate_metrics_aggregation_fn=weighted_average,\n",
    ")\n",
    "\n",
    "# Start simulation\n",
    "fl.simulation.start_simulation(\n",
    "    client_fn=client_fn,\n",
    "    num_clients=NUM_OF_CLIENTS,\n",
    "    config=fl.server.ServerConfig(num_rounds=NUM_OF_ROUNDS),\n",
    "    strategy=strategy,\n",
    ")"
   ]
  },
  {
   "cell_type": "code",
   "execution_count": 24,
   "id": "3a082bd6",
   "metadata": {},
   "outputs": [],
   "source": []
  },
  {
   "cell_type": "code",
   "execution_count": null,
   "id": "67b23dae-37d9-48fe-ae1c-d1b3116a211b",
   "metadata": {},
   "outputs": [],
   "source": []
  },
  {
   "cell_type": "code",
   "execution_count": null,
   "id": "91c23f17-4499-4c3a-9f83-ae7edef112c0",
   "metadata": {},
   "outputs": [],
   "source": []
  },
  {
   "cell_type": "code",
   "execution_count": null,
   "id": "55713799-0f16-4acd-8c8d-1b4049c9d2fa",
   "metadata": {},
   "outputs": [],
   "source": []
  },
  {
   "cell_type": "code",
   "execution_count": null,
   "id": "54571973-f691-4a6f-b227-bd7ee410a60e",
   "metadata": {},
   "outputs": [],
   "source": [
    "y_pred = np.load(\"y_pred-0.npy\")"
   ]
  },
  {
   "cell_type": "code",
   "execution_count": 37,
   "id": "c0bd9754-e5bc-45d7-9bc9-22b566b3f950",
   "metadata": {},
   "outputs": [],
   "source": [
    "cmatrix = confusion_matrix(y_test, y_pred)"
   ]
  },
  {
   "cell_type": "code",
   "execution_count": 52,
   "id": "c6cf9c7c-4ed4-4201-a0ac-8debe8de793d",
   "metadata": {},
   "outputs": [
    {
     "data": {
      "image/png": "[encoded data removed]",
      "text/plain": [
       "<Figure size 640x480 with 2 Axes>"
      ]
     },
     "metadata": {},
     "output_type": "display_data"
    }
   ],
   "source": [
    "import seaborn as sns\n",
    "import matplotlib.pyplot as plt\n",
    "disp = ConfusionMatrixDisplay(cmatrix)\n",
    "disp.plot()\n",
    "plt.show()"
   ]
  },
  {
   "cell_type": "code",
   "execution_count": null,
   "id": "fb954cf3-b1c8-402d-8b0b-d5d60b695dc9",
   "metadata": {},
   "outputs": [],
   "source": []
  }
 ],
 "metadata": {
  "kernelspec": {
   "display_name": "Python 3 (ipykernel)",
   "language": "python",
   "name": "python3"
  },
  "language_info": {
   "codemirror_mode": {
    "name": "ipython",
    "version": 3
   },
   "file_extension": ".py",
   "mimetype": "text/x-python",
   "name": "python",
   "nbconvert_exporter": "python",
   "pygments_lexer": "ipython3",
   "version": "3.9.13"
  },
  "vscode": {
   "interpreter": {
    "hash": "a1a946a741f3f6200957dccf23404636c747a9eb7c96c9668153385b834240fd"
   }
  }
 },
 "nbformat": 4,
 "nbformat_minor": 5
}
