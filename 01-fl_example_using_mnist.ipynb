{
 "cells": [
  {
   "cell_type": "markdown",
   "id": "1ee2ad1b-d745-4a7b-bc06-8fe8d614d8ff",
   "metadata": {},
   "source": [
    "# Federated Learning\n",
    "\n",
    "## 01. Example using MNIST\n",
    "\n",
    "In this notebook we extend the original example of using Flower Federated Learning with scikit-learn (https://flower.dev/docs/quickstart-scikitlearn.html)\n",
    "\n",
    "* We adapt the online example to make it compatible with a notebook format, using the FL Simulation, over separate client-server Python files.\n",
    "* We output the individual client accuracy scores to assess their individual and collective performance.\n",
    "* Minor amendments to enable the example to work within a single Jupyter notebook file.\n",
    "\n"
   ]
  },
  {
   "cell_type": "code",
   "execution_count": 1,
   "id": "f5249381-c72b-41b7-a729-38d24ceb1f00",
   "metadata": {},
   "outputs": [],
   "source": [
    "%%capture\n",
    "!pip install flwr[simulation] torch torchvision matplotlib"
   ]
  },
  {
   "cell_type": "code",
   "execution_count": 2,
   "id": "28de4c4d-f6c0-4db6-8c4f-2bd46f5320e9",
   "metadata": {},
   "outputs": [
    {
     "name": "stdout",
     "output_type": "stream",
     "text": [
      "flwr 1.0.0\n",
      "numpy 1.22.4\n",
      "torch 1.12.1+cpu\n",
      "torchvision 0.13.1+cpu\n",
      "Training on cpu\n"
     ]
    }
   ],
   "source": [
    "from collections import OrderedDict\n",
    "from typing import List, Tuple\n",
    "\n",
    "import flwr as fl\n",
    "import numpy as np\n",
    "import matplotlib.pyplot as plt\n",
    "import torch\n",
    "import torch.nn as nn\n",
    "import torchvision\n",
    "import torch.nn.functional as F\n",
    "import torchvision.transforms as transforms\n",
    "from flwr.common import Metrics\n",
    "from torch.utils.data import DataLoader, random_split\n",
    "from torchvision.datasets import CIFAR10\n",
    "\n",
    "import warnings\n",
    "\n",
    "\n",
    "from typing import Dict\n",
    "\n",
    "from sklearn.metrics import log_loss\n",
    "\n",
    "from sklearn.linear_model import LogisticRegression\n",
    "from sklearn.neural_network import MLPClassifier\n",
    "\n",
    "\n",
    "print(\"flwr\", fl.__version__)\n",
    "print(\"numpy\", np.__version__)\n",
    "print(\"torch\", torch.__version__)\n",
    "print(\"torchvision\", torchvision.__version__)\n",
    "\n",
    "DEVICE = torch.device(\"cuda:0\" if torch.cuda.is_available() else \"cpu\")\n",
    "print(f\"Training on {DEVICE}\")"
   ]
  },
  {
   "cell_type": "code",
   "execution_count": 3,
   "id": "8e754ed8-b4a9-42e9-9f2e-27fdd7991259",
   "metadata": {},
   "outputs": [],
   "source": [
    "from typing import Tuple, Union, List\n",
    "import numpy as np\n",
    "from sklearn.linear_model import LogisticRegression\n",
    "import openml\n",
    "\n",
    "XY = Tuple[np.ndarray, np.ndarray]\n",
    "Dataset = Tuple[XY, XY]\n",
    "LogRegParams = Union[XY, Tuple[np.ndarray]]\n",
    "XYList = List[XY]\n",
    "\n",
    "def get_model_parameters(model: LogisticRegression) -> LogRegParams:\n",
    "    \"\"\"Returns the paramters of a sklearn LogisticRegression model.\"\"\"\n",
    "    if model.fit_intercept:\n",
    "        params = [\n",
    "            model.coef_,\n",
    "            model.intercept_,\n",
    "        ]\n",
    "    else:\n",
    "        params = [\n",
    "            model.coef_,\n",
    "        ]\n",
    "    return params\n",
    "\n",
    "\n",
    "def set_model_params(\n",
    "    model: LogisticRegression, params: LogRegParams\n",
    ") -> LogisticRegression:\n",
    "    \"\"\"Sets the parameters of a sklean LogisticRegression model.\"\"\"\n",
    "    model.coef_ = params[0]\n",
    "    if model.fit_intercept:\n",
    "        model.intercept_ = params[1]\n",
    "    return model\n",
    "\n",
    "\n",
    "def set_initial_params(model: LogisticRegression):\n",
    "    \"\"\"Sets initial parameters as zeros Required since model params are\n",
    "    uninitialized until model.fit is called.\n",
    "    But server asks for initial parameters from clients at launch. Refer\n",
    "    to sklearn.linear_model.LogisticRegression documentation for more\n",
    "    information.\n",
    "    \"\"\"\n",
    "    n_classes = 10 # CICIDS has 15 possible classes #10  # MNIST has 10 classes\n",
    "    n_features = 784 # CICIDS has 78 posible features #784  # Number of features in dataset\n",
    "    model.classes_ = np.array([i for i in range(10)])\n",
    "\n",
    "    model.coef_ = np.zeros((n_classes, n_features))\n",
    "    if model.fit_intercept:\n",
    "        model.intercept_ = np.zeros((n_classes,))\n",
    "\n",
    "\n",
    "def load_mnist() -> Dataset:\n",
    "    \"\"\"Loads the MNIST dataset using OpenML.\n",
    "    OpenML dataset link: https://www.openml.org/d/554\n",
    "    \"\"\"\n",
    "    mnist_openml = openml.datasets.get_dataset(554)\n",
    "    Xy, _, _, _ = mnist_openml.get_data(dataset_format=\"array\")\n",
    "    X = Xy[:, :-1]  # the last column contains labels\n",
    "    y = Xy[:, -1]\n",
    "    # First 60000 samples consist of the train set\n",
    "    x_train, y_train = X[:60000], y[:60000]\n",
    "    x_test, y_test = X[60000:], y[60000:]\n",
    "    return (x_train, y_train), (x_test, y_test)\n",
    "\n",
    "\n",
    "def shuffle(X: np.ndarray, y: np.ndarray) -> XY:\n",
    "    \"\"\"Shuffle X and y.\"\"\"\n",
    "    rng = np.random.default_rng()\n",
    "    idx = rng.permutation(len(X))\n",
    "    return X[idx], y[idx]\n",
    "\n",
    "\n",
    "def partition(X: np.ndarray, y: np.ndarray, num_partitions: int) -> XYList:\n",
    "    \"\"\"Split X and y into a number of partitions.\"\"\"\n",
    "    return list(\n",
    "        zip(np.array_split(X, num_partitions), np.array_split(y, num_partitions))\n",
    "    )\n"
   ]
  },
  {
   "cell_type": "code",
   "execution_count": 4,
   "id": "fa692109-e08c-4f2d-bf73-4a756fe430ae",
   "metadata": {},
   "outputs": [],
   "source": [
    "NUM_OF_CLIENTS = 10\n",
    "NUM_OF_ROUNDS = 20"
   ]
  },
  {
   "cell_type": "code",
   "execution_count": 5,
   "id": "930a9cbc-7e14-4475-b892-7cc097ba8a26",
   "metadata": {},
   "outputs": [],
   "source": [
    "class FlowerClient(fl.client.NumPyClient):\n",
    "    def __init__(self, cid, c_model, c_X_train, c_y_train, c_X_test, c_y_test):\n",
    "        self.cid = cid\n",
    "        self.c_model = c_model\n",
    "        self.c_X_train = c_X_train\n",
    "        self.c_y_train = c_y_train\n",
    "        self.c_X_test = c_X_test\n",
    "        self.c_y_test = c_y_test\n",
    "\n",
    "    def get_parameters(self, config):  # type: ignore\n",
    "        #print (f\"Get Parameters for Client {self.cid}\")\n",
    "        return get_model_parameters(self.c_model)\n",
    "\n",
    "    def fit(self, parameters, config):  # type: ignore\n",
    "        #print (f\"Fit for Client {self.cid}\")\n",
    "        set_model_params(self.c_model, parameters)\n",
    "        # Ignore convergence failure due to low local epochs\n",
    "        with warnings.catch_warnings():\n",
    "            warnings.simplefilter(\"ignore\")\n",
    "            self.c_model.fit(self.c_X_train, self.c_y_train)\n",
    "        print(f\"Training finished for round {config['server_round']} for Client {self.cid}\")\n",
    "        return get_model_parameters(self.c_model), len(self.c_X_train), {}\n",
    "\n",
    "    def evaluate(self, parameters, config):  # type: ignore\n",
    "        #print (f\"Evaluate for Client {self.cid}\")\n",
    "        set_model_params(self.c_model, parameters)\n",
    "        #c_loss = log_loss(self.c_y_test, self.c_model.predict_proba(self.c_X_test))\n",
    "        #c_accuracy = self.c_model.score(self.c_X_test, self.c_y_test)\n",
    "        c_loss = log_loss(self.c_y_train, self.c_model.predict_proba(self.c_X_train))\n",
    "        c_accuracy = self.c_model.score(self.c_X_train, self.c_y_train)\n",
    "        print (f\"Evaluate for Client {self.cid} - Accuracy: {c_accuracy}, Loss: {c_loss}\")\n",
    "        return c_loss, len(self.c_X_train), {\"accuracy\": c_accuracy}\n"
   ]
  },
  {
   "cell_type": "code",
   "execution_count": 6,
   "id": "d8a712ba-3313-4918-85bd-2522dbe7638e",
   "metadata": {},
   "outputs": [],
   "source": [
    "\n",
    "\n",
    "\n",
    "def client_fn(cid: str) -> FlowerClient:\n",
    "    \"\"\"Create a Flower client representing a single organization.\"\"\"\n",
    "\n",
    "    # Split train set into 10 partitions and randomly use one for training.\n",
    "    # Load MNIST dataset from https://www.openml.org/d/554\n",
    "    (X_train, y_train), (X_test, y_test) = load_mnist()\n",
    "    partition_id = np.random.choice(10)\n",
    "    (X_train, y_train) = partition(X_train, y_train, 10)[partition_id]\n",
    "\n",
    "    # Create LogisticRegression Model\n",
    "    client_model = LogisticRegression(\n",
    "        penalty=\"l2\",\n",
    "        max_iter=1,  # local epoch\n",
    "        warm_start=True,  # prevent refreshing weights when fitting\n",
    "    )\n",
    "\n",
    "    # Setting initial parameters, akin to model.compile for keras models\n",
    "    set_initial_params(client_model)\n",
    "\n",
    "    # Create a single Flower client representing a single organization\n",
    "    return FlowerClient(cid, client_model, X_train, y_train, X_test, y_test)"
   ]
  },
  {
   "cell_type": "code",
   "execution_count": 7,
   "id": "6aca4080-0db8-4d97-887e-2a397b883a7f",
   "metadata": {},
   "outputs": [
    {
     "name": "stderr",
     "output_type": "stream",
     "text": [
      "INFO flower 2022-10-26 21:35:17,222 | app.py:142 | Starting Flower simulation, config: ServerConfig(num_rounds=20, round_timeout=None)\n",
      "INFO flower 2022-10-26 21:35:23,923 | app.py:176 | Flower VCE: Ray initialized with resources: {'node:127.0.0.1': 1.0, 'memory': 10789785600.0, 'CPU': 8.0, 'object_store_memory': 5394892800.0}\n",
      "INFO flower 2022-10-26 21:35:23,926 | server.py:86 | Initializing global parameters\n",
      "INFO flower 2022-10-26 21:35:23,927 | server.py:270 | Requesting initial parameters from one random client\n",
      "INFO flower 2022-10-26 21:35:27,983 | server.py:274 | Received initial parameters from one random client\n",
      "INFO flower 2022-10-26 21:35:27,984 | server.py:88 | Evaluating initial parameters\n",
      "INFO flower 2022-10-26 21:35:28,150 | server.py:91 | initial parameters (loss, other metrics): 2.3025850929940455, {'accuracy': 0.098}\n",
      "INFO flower 2022-10-26 21:35:28,152 | server.py:101 | FL starting\n",
      "DEBUG flower 2022-10-26 21:35:28,154 | server.py:215 | fit_round 1: strategy sampled 10 clients (out of 10)\n"
     ]
    },
    {
     "name": "stdout",
     "output_type": "stream",
     "text": [
      "\u001b[2m\u001b[36m(launch_and_fit pid=23756)\u001b[0m Training finished for round 1 for Client 4\n",
      "\u001b[2m\u001b[36m(launch_and_fit pid=23756)\u001b[0m Training finished for round 1 for Client 9\n",
      "\u001b[2m\u001b[36m(launch_and_fit pid=23756)\u001b[0m Training finished for round 1 for Client 6\n",
      "\u001b[2m\u001b[36m(launch_and_fit pid=22316)\u001b[0m Training finished for round 1 for Client 7\n",
      "\u001b[2m\u001b[36m(launch_and_fit pid=23748)\u001b[0m Training finished for round 1 for Client 0\n",
      "\u001b[2m\u001b[36m(launch_and_fit pid=23148)\u001b[0m Training finished for round 1 for Client 1\n",
      "\u001b[2m\u001b[36m(launch_and_fit pid=17404)\u001b[0m Training finished for round 1 for Client 3\n",
      "\u001b[2m\u001b[36m(launch_and_fit pid=19232)\u001b[0m Training finished for round 1 for Client 5\n"
     ]
    },
    {
     "name": "stderr",
     "output_type": "stream",
     "text": [
      "DEBUG flower 2022-10-26 21:35:35,477 | server.py:229 | fit_round 1 received 10 results and 0 failures\n",
      "WARNING flower 2022-10-26 21:35:35,493 | fedavg.py:243 | No fit_metrics_aggregation_fn provided\n"
     ]
    },
    {
     "name": "stdout",
     "output_type": "stream",
     "text": [
      "\u001b[2m\u001b[36m(launch_and_fit pid=5228)\u001b[0m Training finished for round 1 for Client 2\n",
      "\u001b[2m\u001b[36m(launch_and_fit pid=3608)\u001b[0m Training finished for round 1 for Client 8\n"
     ]
    },
    {
     "name": "stderr",
     "output_type": "stream",
     "text": [
      "INFO flower 2022-10-26 21:35:35,982 | server.py:116 | fit progress: (1, 1.3277909087574342, {'accuracy': 0.68}, 7.828432600000003)\n",
      "DEBUG flower 2022-10-26 21:35:35,984 | server.py:165 | evaluate_round 1: strategy sampled 10 clients (out of 10)\n"
     ]
    },
    {
     "name": "stdout",
     "output_type": "stream",
     "text": [
      "\u001b[2m\u001b[36m(launch_and_evaluate pid=3608)\u001b[0m Evaluate for Client 5 - Accuracy: 0.6655, Loss: 1.3494628496188206\n",
      "\u001b[2m\u001b[36m(launch_and_evaluate pid=17404)\u001b[0m Evaluate for Client 9 - Accuracy: 0.6618333333333334, Loss: 1.3016458988938713\n",
      "\u001b[2m\u001b[36m(launch_and_evaluate pid=23148)\u001b[0m Evaluate for Client 7 - Accuracy: 0.6631666666666667, Loss: 1.3540999741304576\n",
      "\u001b[2m\u001b[36m(launch_and_evaluate pid=5228)\u001b[0m Evaluate for Client 3 - Accuracy: 0.6551666666666667, Loss: 1.3613174526166536\n",
      "\u001b[2m\u001b[36m(launch_and_evaluate pid=19232)\u001b[0m Evaluate for Client 4 - Accuracy: 0.6618333333333334, Loss: 1.3016458988938713\n",
      "\u001b[2m\u001b[36m(launch_and_evaluate pid=23748)\u001b[0m Evaluate for Client 6 - Accuracy: 0.6738333333333333, Loss: 1.3414058428592839\n",
      "\u001b[2m\u001b[36m(launch_and_evaluate pid=23756)\u001b[0m Evaluate for Client 2 - Accuracy: 0.6773333333333333, Loss: 1.3474064443856473\n",
      "\u001b[2m\u001b[36m(launch_and_evaluate pid=22316)\u001b[0m Evaluate for Client 8 - Accuracy: 0.6818333333333333, Loss: 1.2772490361111866\n"
     ]
    },
    {
     "name": "stderr",
     "output_type": "stream",
     "text": [
      "DEBUG flower 2022-10-26 21:35:37,404 | server.py:179 | evaluate_round 1 received 10 results and 0 failures\n",
      "WARNING flower 2022-10-26 21:35:37,406 | fedavg.py:274 | No evaluate_metrics_aggregation_fn provided\n",
      "DEBUG flower 2022-10-26 21:35:37,407 | server.py:215 | fit_round 2: strategy sampled 10 clients (out of 10)\n"
     ]
    },
    {
     "name": "stdout",
     "output_type": "stream",
     "text": [
      "\u001b[2m\u001b[36m(launch_and_evaluate pid=17404)\u001b[0m Evaluate for Client 0 - Accuracy: 0.667, Loss: 1.3669148219156069\n",
      "\u001b[2m\u001b[36m(launch_and_evaluate pid=3608)\u001b[0m Evaluate for Client 1 - Accuracy: 0.6551666666666667, Loss: 1.3613174526166536\n",
      "\u001b[2m\u001b[36m(launch_and_fit pid=5228)\u001b[0m Training finished for round 2 for Client 6\n",
      "\u001b[2m\u001b[36m(launch_and_fit pid=23748)\u001b[0m Training finished for round 2 for Client 5\n",
      "\u001b[2m\u001b[36m(launch_and_fit pid=23756)\u001b[0m Training finished for round 2 for Client 2\n",
      "\u001b[2m\u001b[36m(launch_and_fit pid=22316)\u001b[0m Training finished for round 2 for Client 7\n",
      "\u001b[2m\u001b[36m(launch_and_fit pid=19232)\u001b[0m Training finished for round 2 for Client 1\n",
      "\u001b[2m\u001b[36m(launch_and_fit pid=3608)\u001b[0m Training finished for round 2 for Client 3\n",
      "\u001b[2m\u001b[36m(launch_and_fit pid=17404)\u001b[0m Training finished for round 2 for Client 8\n",
      "\u001b[2m\u001b[36m(launch_and_fit pid=23148)\u001b[0m Training finished for round 2 for Client 4\n"
     ]
    },
    {
     "name": "stderr",
     "output_type": "stream",
     "text": [
      "DEBUG flower 2022-10-26 21:35:39,371 | server.py:229 | fit_round 2 received 10 results and 0 failures\n"
     ]
    },
    {
     "name": "stdout",
     "output_type": "stream",
     "text": [
      "\u001b[2m\u001b[36m(launch_and_fit pid=5228)\u001b[0m Training finished for round 2 for Client 0\n",
      "\u001b[2m\u001b[36m(launch_and_fit pid=23748)\u001b[0m Training finished for round 2 for Client 9\n"
     ]
    },
    {
     "name": "stderr",
     "output_type": "stream",
     "text": [
      "INFO flower 2022-10-26 21:35:39,595 | server.py:116 | fit progress: (2, 0.7227150311788029, {'accuracy': 0.775}, 11.4411806)\n",
      "DEBUG flower 2022-10-26 21:35:39,597 | server.py:165 | evaluate_round 2: strategy sampled 10 clients (out of 10)\n"
     ]
    },
    {
     "name": "stdout",
     "output_type": "stream",
     "text": [
      "\u001b[2m\u001b[36m(launch_and_evaluate pid=5228)\u001b[0m Evaluate for Client 2 - Accuracy: 0.7515, Loss: 0.8101776859181021\n",
      "\u001b[2m\u001b[36m(launch_and_evaluate pid=23748)\u001b[0m Evaluate for Client 4 - Accuracy: 0.7728333333333334, Loss: 0.7160195819362343\n",
      "\u001b[2m\u001b[36m(launch_and_evaluate pid=17404)\u001b[0m Evaluate for Client 1 - Accuracy: 0.7823333333333333, Loss: 0.710746483684846\n",
      "\u001b[2m\u001b[36m(launch_and_evaluate pid=23756)\u001b[0m Evaluate for Client 9 - Accuracy: 0.7443333333333333, Loss: 0.8299367542226173\n",
      "\u001b[2m\u001b[36m(launch_and_evaluate pid=23148)\u001b[0m Evaluate for Client 5 - Accuracy: 0.7823333333333333, Loss: 0.710746483684846\n",
      "\u001b[2m\u001b[36m(launch_and_evaluate pid=3608)\u001b[0m Evaluate for Client 3 - Accuracy: 0.7726666666666666, Loss: 0.746599390691859\n",
      "\u001b[2m\u001b[36m(launch_and_evaluate pid=22316)\u001b[0m Evaluate for Client 0 - Accuracy: 0.7726666666666666, Loss: 0.746599390691859\n",
      "\u001b[2m\u001b[36m(launch_and_evaluate pid=19232)\u001b[0m Evaluate for Client 7 - Accuracy: 0.7823333333333333, Loss: 0.710746483684846\n"
     ]
    },
    {
     "name": "stderr",
     "output_type": "stream",
     "text": [
      "DEBUG flower 2022-10-26 21:35:41,024 | server.py:179 | evaluate_round 2 received 10 results and 0 failures\n",
      "DEBUG flower 2022-10-26 21:35:41,026 | server.py:215 | fit_round 3: strategy sampled 10 clients (out of 10)\n"
     ]
    },
    {
     "name": "stdout",
     "output_type": "stream",
     "text": [
      "\u001b[2m\u001b[36m(launch_and_evaluate pid=5228)\u001b[0m Evaluate for Client 8 - Accuracy: 0.765, Loss: 0.7480795347165133\n",
      "\u001b[2m\u001b[36m(launch_and_evaluate pid=17404)\u001b[0m Evaluate for Client 6 - Accuracy: 0.8103333333333333, Loss: 0.6267591410983921\n",
      "\u001b[2m\u001b[36m(launch_and_fit pid=22316)\u001b[0m Training finished for round 3 for Client 8\n",
      "\u001b[2m\u001b[36m(launch_and_fit pid=17404)\u001b[0m Training finished for round 3 for Client 1\n",
      "\u001b[2m\u001b[36m(launch_and_fit pid=23148)\u001b[0m Training finished for round 3 for Client 4\n",
      "\u001b[2m\u001b[36m(launch_and_fit pid=19232)\u001b[0m Training finished for round 3 for Client 9\n",
      "\u001b[2m\u001b[36m(launch_and_fit pid=23748)\u001b[0m Training finished for round 3 for Client 7\n",
      "\u001b[2m\u001b[36m(launch_and_fit pid=3608)\u001b[0m Training finished for round 3 for Client 5\n",
      "\u001b[2m\u001b[36m(launch_and_fit pid=5228)\u001b[0m Training finished for round 3 for Client 2\n",
      "\u001b[2m\u001b[36m(launch_and_fit pid=23756)\u001b[0m Training finished for round 3 for Client 3\n"
     ]
    },
    {
     "name": "stderr",
     "output_type": "stream",
     "text": [
      "DEBUG flower 2022-10-26 21:35:42,754 | server.py:229 | fit_round 3 received 10 results and 0 failures\n",
      "INFO flower 2022-10-26 21:35:42,944 | server.py:116 | fit progress: (3, 0.5341110766653655, {'accuracy': 0.8355}, 14.789871200000004)\n"
     ]
    },
    {
     "name": "stdout",
     "output_type": "stream",
     "text": [
      "\u001b[2m\u001b[36m(launch_and_fit pid=22316)\u001b[0m Training finished for round 3 for Client 6\n",
      "\u001b[2m\u001b[36m(launch_and_fit pid=17404)\u001b[0m Training finished for round 3 for Client 0\n"
     ]
    },
    {
     "name": "stderr",
     "output_type": "stream",
     "text": [
      "DEBUG flower 2022-10-26 21:35:42,945 | server.py:165 | evaluate_round 3: strategy sampled 10 clients (out of 10)\n"
     ]
    },
    {
     "name": "stdout",
     "output_type": "stream",
     "text": [
      "\u001b[2m\u001b[36m(launch_and_evaluate pid=17404)\u001b[0m Evaluate for Client 9 - Accuracy: 0.8321666666666667, Loss: 0.5545110090076141\n",
      "\u001b[2m\u001b[36m(launch_and_evaluate pid=22316)\u001b[0m Evaluate for Client 4 - Accuracy: 0.8311666666666667, Loss: 0.5402532121630734\n",
      "\u001b[2m\u001b[36m(launch_and_evaluate pid=5228)\u001b[0m Evaluate for Client 0 - Accuracy: 0.8231666666666667, Loss: 0.5864847456138728\n",
      "\u001b[2m\u001b[36m(launch_and_evaluate pid=3608)\u001b[0m Evaluate for Client 1 - Accuracy: 0.8311666666666667, Loss: 0.5402532121630734\n",
      "\u001b[2m\u001b[36m(launch_and_evaluate pid=23756)\u001b[0m Evaluate for Client 3 - Accuracy: 0.8311666666666667, Loss: 0.5402532121630734\n",
      "\u001b[2m\u001b[36m(launch_and_evaluate pid=23148)\u001b[0m Evaluate for Client 6 - Accuracy: 0.8255, Loss: 0.5656811766682117\n",
      "\u001b[2m\u001b[36m(launch_and_evaluate pid=19232)\u001b[0m Evaluate for Client 2 - Accuracy: 0.8321666666666667, Loss: 0.5545110090076141\n",
      "\u001b[2m\u001b[36m(launch_and_evaluate pid=23748)\u001b[0m Evaluate for Client 5 - Accuracy: 0.8311666666666667, Loss: 0.5402532121630734\n"
     ]
    },
    {
     "name": "stderr",
     "output_type": "stream",
     "text": [
      "DEBUG flower 2022-10-26 21:35:44,438 | server.py:179 | evaluate_round 3 received 10 results and 0 failures\n",
      "DEBUG flower 2022-10-26 21:35:44,440 | server.py:215 | fit_round 4: strategy sampled 10 clients (out of 10)\n"
     ]
    },
    {
     "name": "stdout",
     "output_type": "stream",
     "text": [
      "\u001b[2m\u001b[36m(launch_and_evaluate pid=17404)\u001b[0m Evaluate for Client 7 - Accuracy: 0.8321666666666667, Loss: 0.5545110090076141\n",
      "\u001b[2m\u001b[36m(launch_and_evaluate pid=3608)\u001b[0m Evaluate for Client 8 - Accuracy: 0.8231666666666667, Loss: 0.5864847456138728\n",
      "\u001b[2m\u001b[36m(launch_and_fit pid=19232)\u001b[0m Training finished for round 4 for Client 8\n",
      "\u001b[2m\u001b[36m(launch_and_fit pid=3608)\u001b[0m Training finished for round 4 for Client 4\n",
      "\u001b[2m\u001b[36m(launch_and_fit pid=17404)\u001b[0m Training finished for round 4 for Client 6\n",
      "\u001b[2m\u001b[36m(launch_and_fit pid=23148)\u001b[0m Training finished for round 4 for Client 0\n",
      "\u001b[2m\u001b[36m(launch_and_fit pid=23748)\u001b[0m Training finished for round 4 for Client 5\n",
      "\u001b[2m\u001b[36m(launch_and_fit pid=23756)\u001b[0m Training finished for round 4 for Client 1\n",
      "\u001b[2m\u001b[36m(launch_and_fit pid=22316)\u001b[0m Training finished for round 4 for Client 9\n",
      "\u001b[2m\u001b[36m(launch_and_fit pid=5228)\u001b[0m Training finished for round 4 for Client 2\n"
     ]
    },
    {
     "name": "stderr",
     "output_type": "stream",
     "text": [
      "DEBUG flower 2022-10-26 21:35:46,163 | server.py:229 | fit_round 4 received 10 results and 0 failures\n",
      "INFO flower 2022-10-26 21:35:46,347 | server.py:116 | fit progress: (4, 0.5095080068756908, {'accuracy': 0.8433}, 18.1929894)\n",
      "DEBUG flower 2022-10-26 21:35:46,349 | server.py:165 | evaluate_round 4: strategy sampled 10 clients (out of 10)\n"
     ]
    },
    {
     "name": "stdout",
     "output_type": "stream",
     "text": [
      "\u001b[2m\u001b[36m(launch_and_fit pid=19232)\u001b[0m Training finished for round 4 for Client 3\n",
      "\u001b[2m\u001b[36m(launch_and_fit pid=3608)\u001b[0m Training finished for round 4 for Client 7\n",
      "\u001b[2m\u001b[36m(launch_and_evaluate pid=3608)\u001b[0m Evaluate for Client 1 - Accuracy: 0.8268333333333333, Loss: 0.5471228599747981\n",
      "\u001b[2m\u001b[36m(launch_and_evaluate pid=19232)\u001b[0m Evaluate for Client 3 - Accuracy: 0.8361666666666666, Loss: 0.5350067907679074\n",
      "\u001b[2m\u001b[36m(launch_and_evaluate pid=23756)\u001b[0m Evaluate for Client 4 - Accuracy: 0.8231666666666667, Loss: 0.5642219736528575\n",
      "\u001b[2m\u001b[36m(launch_and_evaluate pid=22316)\u001b[0m Evaluate for Client 7 - Accuracy: 0.8361666666666666, Loss: 0.5350067907679074\n",
      "\u001b[2m\u001b[36m(launch_and_evaluate pid=23148)\u001b[0m Evaluate for Client 2 - Accuracy: 0.8231666666666667, Loss: 0.5642219736528575\n",
      "\u001b[2m\u001b[36m(launch_and_evaluate pid=5228)\u001b[0m Evaluate for Client 0 - Accuracy: 0.8321666666666667, Loss: 0.5390461394896612\n",
      "\u001b[2m\u001b[36m(launch_and_evaluate pid=23748)\u001b[0m Evaluate for Client 9 - Accuracy: 0.8443333333333334, Loss: 0.5123920639960042\n",
      "\u001b[2m\u001b[36m(launch_and_evaluate pid=17404)\u001b[0m Evaluate for Client 8 - Accuracy: 0.812, Loss: 0.6016528809605117\n"
     ]
    },
    {
     "name": "stderr",
     "output_type": "stream",
     "text": [
      "DEBUG flower 2022-10-26 21:35:47,784 | server.py:179 | evaluate_round 4 received 10 results and 0 failures\n",
      "DEBUG flower 2022-10-26 21:35:47,786 | server.py:215 | fit_round 5: strategy sampled 10 clients (out of 10)\n"
     ]
    },
    {
     "name": "stdout",
     "output_type": "stream",
     "text": [
      "\u001b[2m\u001b[36m(launch_and_evaluate pid=19232)\u001b[0m Evaluate for Client 6 - Accuracy: 0.8361666666666666, Loss: 0.5350067907679074\n",
      "\u001b[2m\u001b[36m(launch_and_evaluate pid=3608)\u001b[0m Evaluate for Client 5 - Accuracy: 0.8361666666666666, Loss: 0.5350067907679074\n",
      "\u001b[2m\u001b[36m(launch_and_fit pid=23748)\u001b[0m Training finished for round 5 for Client 0\n",
      "\u001b[2m\u001b[36m(launch_and_fit pid=17404)\u001b[0m Training finished for round 5 for Client 1\n",
      "\u001b[2m\u001b[36m(launch_and_fit pid=19232)\u001b[0m Training finished for round 5 for Client 9\n",
      "\u001b[2m\u001b[36m(launch_and_fit pid=3608)\u001b[0m Training finished for round 5 for Client 6\n",
      "\u001b[2m\u001b[36m(launch_and_fit pid=23756)\u001b[0m Training finished for round 5 for Client 5\n",
      "\u001b[2m\u001b[36m(launch_and_fit pid=22316)\u001b[0m Training finished for round 5 for Client 2\n",
      "\u001b[2m\u001b[36m(launch_and_fit pid=5228)\u001b[0m Training finished for round 5 for Client 7\n",
      "\u001b[2m\u001b[36m(launch_and_fit pid=23148)\u001b[0m Training finished for round 5 for Client 3\n"
     ]
    },
    {
     "name": "stderr",
     "output_type": "stream",
     "text": [
      "DEBUG flower 2022-10-26 21:35:49,643 | server.py:229 | fit_round 5 received 10 results and 0 failures\n"
     ]
    },
    {
     "name": "stdout",
     "output_type": "stream",
     "text": [
      "\u001b[2m\u001b[36m(launch_and_fit pid=17404)\u001b[0m Training finished for round 5 for Client 8\n",
      "\u001b[2m\u001b[36m(launch_and_fit pid=23748)\u001b[0m Training finished for round 5 for Client 4\n"
     ]
    },
    {
     "name": "stderr",
     "output_type": "stream",
     "text": [
      "INFO flower 2022-10-26 21:35:49,854 | server.py:116 | fit progress: (5, 0.49801024524231263, {'accuracy': 0.8495}, 21.6997685)\n",
      "DEBUG flower 2022-10-26 21:35:49,855 | server.py:165 | evaluate_round 5: strategy sampled 10 clients (out of 10)\n"
     ]
    },
    {
     "name": "stdout",
     "output_type": "stream",
     "text": [
      "\u001b[2m\u001b[36m(launch_and_evaluate pid=23148)\u001b[0m Evaluate for Client 4 - Accuracy: 0.8336666666666667, Loss: 0.5476945170953091\n",
      "\u001b[2m\u001b[36m(launch_and_evaluate pid=22316)\u001b[0m Evaluate for Client 6 - Accuracy: 0.8455, Loss: 0.533046686238767\n",
      "\u001b[2m\u001b[36m(launch_and_evaluate pid=23748)\u001b[0m Evaluate for Client 2 - Accuracy: 0.8476666666666667, Loss: 0.5033976748062287\n",
      "\u001b[2m\u001b[36m(launch_and_evaluate pid=3608)\u001b[0m Evaluate for Client 9 - Accuracy: 0.8336666666666667, Loss: 0.5476945170953091\n",
      "\u001b[2m\u001b[36m(launch_and_evaluate pid=17404)\u001b[0m Evaluate for Client 1 - Accuracy: 0.8476666666666667, Loss: 0.5033976748062287\n",
      "\u001b[2m\u001b[36m(launch_and_evaluate pid=23756)\u001b[0m Evaluate for Client 7 - Accuracy: 0.8153333333333334, Loss: 0.5940752708786778\n",
      "\u001b[2m\u001b[36m(launch_and_evaluate pid=5228)\u001b[0m Evaluate for Client 5 - Accuracy: 0.83, Loss: 0.5702917328579569\n",
      "\u001b[2m\u001b[36m(launch_and_evaluate pid=19232)\u001b[0m Evaluate for Client 3 - Accuracy: 0.83, Loss: 0.5702917328579569\n"
     ]
    },
    {
     "name": "stderr",
     "output_type": "stream",
     "text": [
      "DEBUG flower 2022-10-26 21:35:51,338 | server.py:179 | evaluate_round 5 received 10 results and 0 failures\n",
      "DEBUG flower 2022-10-26 21:35:51,340 | server.py:215 | fit_round 6: strategy sampled 10 clients (out of 10)\n"
     ]
    },
    {
     "name": "stdout",
     "output_type": "stream",
     "text": [
      "\u001b[2m\u001b[36m(launch_and_evaluate pid=23148)\u001b[0m Evaluate for Client 8 - Accuracy: 0.8153333333333334, Loss: 0.5940752708786778\n",
      "\u001b[2m\u001b[36m(launch_and_evaluate pid=23748)\u001b[0m Evaluate for Client 0 - Accuracy: 0.8768333333333334, Loss: 0.4238693245760331\n",
      "\u001b[2m\u001b[36m(launch_and_fit pid=23756)\u001b[0m Training finished for round 6 for Client 4\n",
      "\u001b[2m\u001b[36m(launch_and_fit pid=5228)\u001b[0m Training finished for round 6 for Client 6\n",
      "\u001b[2m\u001b[36m(launch_and_fit pid=23148)\u001b[0m Training finished for round 6 for Client 3\n",
      "\u001b[2m\u001b[36m(launch_and_fit pid=23748)\u001b[0m Training finished for round 6 for Client 1\n",
      "\u001b[2m\u001b[36m(launch_and_fit pid=19232)\u001b[0m Training finished for round 6 for Client 8\n",
      "\u001b[2m\u001b[36m(launch_and_fit pid=3608)\u001b[0m Training finished for round 6 for Client 7\n",
      "\u001b[2m\u001b[36m(launch_and_fit pid=22316)\u001b[0m Training finished for round 6 for Client 2\n",
      "\u001b[2m\u001b[36m(launch_and_fit pid=17404)\u001b[0m Training finished for round 6 for Client 9\n"
     ]
    },
    {
     "name": "stderr",
     "output_type": "stream",
     "text": [
      "DEBUG flower 2022-10-26 21:35:53,244 | server.py:229 | fit_round 6 received 10 results and 0 failures\n",
      "INFO flower 2022-10-26 21:35:53,442 | server.py:116 | fit progress: (6, 0.4871907655614814, {'accuracy': 0.8529}, 25.2882954)\n"
     ]
    },
    {
     "name": "stdout",
     "output_type": "stream",
     "text": [
      "\u001b[2m\u001b[36m(launch_and_fit pid=23148)\u001b[0m Training finished for round 6 for Client 0\n",
      "\u001b[2m\u001b[36m(launch_and_fit pid=23748)\u001b[0m Training finished for round 6 for Client 5\n"
     ]
    },
    {
     "name": "stderr",
     "output_type": "stream",
     "text": [
      "DEBUG flower 2022-10-26 21:35:53,444 | server.py:165 | evaluate_round 6: strategy sampled 10 clients (out of 10)\n"
     ]
    },
    {
     "name": "stdout",
     "output_type": "stream",
     "text": [
      "\u001b[2m\u001b[36m(launch_and_evaluate pid=23748)\u001b[0m Evaluate for Client 2 - Accuracy: 0.8316666666666667, Loss: 0.5404469398710205\n",
      "\u001b[2m\u001b[36m(launch_and_evaluate pid=23148)\u001b[0m Evaluate for Client 5 - Accuracy: 0.8466666666666667, Loss: 0.5218700561582915\n",
      "\u001b[2m\u001b[36m(launch_and_evaluate pid=17404)\u001b[0m Evaluate for Client 0 - Accuracy: 0.8205, Loss: 0.576007477822032\n",
      "\u001b[2m\u001b[36m(launch_and_evaluate pid=22316)\u001b[0m Evaluate for Client 9 - Accuracy: 0.8325, Loss: 0.5583068848499879\n",
      "\u001b[2m\u001b[36m(launch_and_evaluate pid=19232)\u001b[0m Evaluate for Client 8 - Accuracy: 0.8325, Loss: 0.5583068848499879\n",
      "\u001b[2m\u001b[36m(launch_and_evaluate pid=3608)\u001b[0m Evaluate for Client 7 - Accuracy: 0.8465, Loss: 0.5108749675894128\n",
      "\u001b[2m\u001b[36m(launch_and_evaluate pid=23756)\u001b[0m Evaluate for Client 3 - Accuracy: 0.8325, Loss: 0.5583068848499879\n",
      "\u001b[2m\u001b[36m(launch_and_evaluate pid=5228)\u001b[0m Evaluate for Client 4 - Accuracy: 0.8531666666666666, Loss: 0.49051688076043787\n"
     ]
    },
    {
     "name": "stderr",
     "output_type": "stream",
     "text": [
      "DEBUG flower 2022-10-26 21:35:54,995 | server.py:179 | evaluate_round 6 received 10 results and 0 failures\n",
      "DEBUG flower 2022-10-26 21:35:54,997 | server.py:215 | fit_round 7: strategy sampled 10 clients (out of 10)\n"
     ]
    },
    {
     "name": "stdout",
     "output_type": "stream",
     "text": [
      "\u001b[2m\u001b[36m(launch_and_evaluate pid=23148)\u001b[0m Evaluate for Client 1 - Accuracy: 0.8515, Loss: 0.49105864925954695\n",
      "\u001b[2m\u001b[36m(launch_and_evaluate pid=23748)\u001b[0m Evaluate for Client 6 - Accuracy: 0.8793333333333333, Loss: 0.4152490615557053\n",
      "\u001b[2m\u001b[36m(launch_and_fit pid=5228)\u001b[0m Training finished for round 7 for Client 9\n",
      "\u001b[2m\u001b[36m(launch_and_fit pid=17404)\u001b[0m Training finished for round 7 for Client 1\n",
      "\u001b[2m\u001b[36m(launch_and_fit pid=19232)\u001b[0m Training finished for round 7 for Client 0\n",
      "\u001b[2m\u001b[36m(launch_and_fit pid=23748)\u001b[0m Training finished for round 7 for Client 7\n",
      "\u001b[2m\u001b[36m(launch_and_fit pid=22316)\u001b[0m Training finished for round 7 for Client 6\n",
      "\u001b[2m\u001b[36m(launch_and_fit pid=23148)\u001b[0m Training finished for round 7 for Client 3\n",
      "\u001b[2m\u001b[36m(launch_and_fit pid=3608)\u001b[0m Training finished for round 7 for Client 4\n",
      "\u001b[2m\u001b[36m(launch_and_fit pid=23756)\u001b[0m Training finished for round 7 for Client 8\n"
     ]
    },
    {
     "name": "stderr",
     "output_type": "stream",
     "text": [
      "DEBUG flower 2022-10-26 21:35:56,936 | server.py:229 | fit_round 7 received 10 results and 0 failures\n"
     ]
    },
    {
     "name": "stdout",
     "output_type": "stream",
     "text": [
      "\u001b[2m\u001b[36m(launch_and_fit pid=17404)\u001b[0m Training finished for round 7 for Client 5\n",
      "\u001b[2m\u001b[36m(launch_and_fit pid=5228)\u001b[0m Training finished for round 7 for Client 2\n"
     ]
    },
    {
     "name": "stderr",
     "output_type": "stream",
     "text": [
      "INFO flower 2022-10-26 21:35:57,149 | server.py:116 | fit progress: (7, 0.4829463515371517, {'accuracy': 0.8548}, 28.9947682)\n",
      "DEBUG flower 2022-10-26 21:35:57,151 | server.py:165 | evaluate_round 7: strategy sampled 10 clients (out of 10)\n"
     ]
    },
    {
     "name": "stdout",
     "output_type": "stream",
     "text": [
      "\u001b[2m\u001b[36m(launch_and_evaluate pid=5228)\u001b[0m Evaluate for Client 7 - Accuracy: 0.8536666666666667, Loss: 0.5029827629692349\n",
      "\u001b[2m\u001b[36m(launch_and_evaluate pid=3608)\u001b[0m Evaluate for Client 8 - Accuracy: 0.8355, Loss: 0.5515998714363803\n",
      "\u001b[2m\u001b[36m(launch_and_evaluate pid=17404)\u001b[0m Evaluate for Client 4 - Accuracy: 0.8478333333333333, Loss: 0.5162978657975408\n",
      "\u001b[2m\u001b[36m(launch_and_evaluate pid=23756)\u001b[0m Evaluate for Client 9 - Accuracy: 0.8386666666666667, Loss: 0.5309095006556998\n",
      "\u001b[2m\u001b[36m(launch_and_evaluate pid=22316)\u001b[0m Evaluate for Client 5 - Accuracy: 0.8525, Loss: 0.48750672515952104\n",
      "\u001b[2m\u001b[36m(launch_and_evaluate pid=23148)\u001b[0m Evaluate for Client 2 - Accuracy: 0.8386666666666667, Loss: 0.5309095006556998\n",
      "\u001b[2m\u001b[36m(launch_and_evaluate pid=23748)\u001b[0m Evaluate for Client 0 - Accuracy: 0.8498333333333333, Loss: 0.5088344463146128\n",
      "\u001b[2m\u001b[36m(launch_and_evaluate pid=19232)\u001b[0m Evaluate for Client 6 - Accuracy: 0.8386666666666667, Loss: 0.5309095006556998\n"
     ]
    },
    {
     "name": "stderr",
     "output_type": "stream",
     "text": [
      "DEBUG flower 2022-10-26 21:35:58,667 | server.py:179 | evaluate_round 7 received 10 results and 0 failures\n",
      "DEBUG flower 2022-10-26 21:35:58,671 | server.py:215 | fit_round 8: strategy sampled 10 clients (out of 10)\n"
     ]
    },
    {
     "name": "stdout",
     "output_type": "stream",
     "text": [
      "\u001b[2m\u001b[36m(launch_and_evaluate pid=5228)\u001b[0m Evaluate for Client 1 - Accuracy: 0.8498333333333333, Loss: 0.5088344463146128\n",
      "\u001b[2m\u001b[36m(launch_and_evaluate pid=3608)\u001b[0m Evaluate for Client 3 - Accuracy: 0.823, Loss: 0.5757404503499784\n",
      "\u001b[2m\u001b[36m(launch_and_fit pid=5228)\u001b[0m Training finished for round 8 for Client 4\n",
      "\u001b[2m\u001b[36m(launch_and_fit pid=19232)\u001b[0m Training finished for round 8 for Client 0\n",
      "\u001b[2m\u001b[36m(launch_and_fit pid=23748)\u001b[0m Training finished for round 8 for Client 5\n",
      "\u001b[2m\u001b[36m(launch_and_fit pid=3608)\u001b[0m Training finished for round 8 for Client 6\n",
      "\u001b[2m\u001b[36m(launch_and_fit pid=23756)\u001b[0m Training finished for round 8 for Client 8\n",
      "\u001b[2m\u001b[36m(launch_and_fit pid=22316)\u001b[0m Training finished for round 8 for Client 2\n",
      "\u001b[2m\u001b[36m(launch_and_fit pid=23148)\u001b[0m Training finished for round 8 for Client 7\n",
      "\u001b[2m\u001b[36m(launch_and_fit pid=17404)\u001b[0m Training finished for round 8 for Client 1\n"
     ]
    },
    {
     "name": "stderr",
     "output_type": "stream",
     "text": [
      "DEBUG flower 2022-10-26 21:36:00,435 | server.py:229 | fit_round 8 received 10 results and 0 failures\n"
     ]
    },
    {
     "name": "stdout",
     "output_type": "stream",
     "text": [
      "\u001b[2m\u001b[36m(launch_and_fit pid=5228)\u001b[0m Training finished for round 8 for Client 3\n",
      "\u001b[2m\u001b[36m(launch_and_fit pid=19232)\u001b[0m Training finished for round 8 for Client 9\n"
     ]
    },
    {
     "name": "stderr",
     "output_type": "stream",
     "text": [
      "INFO flower 2022-10-26 21:36:00,647 | server.py:116 | fit progress: (8, 0.4703486550784219, {'accuracy': 0.8603}, 32.493178)\n",
      "DEBUG flower 2022-10-26 21:36:00,649 | server.py:165 | evaluate_round 8: strategy sampled 10 clients (out of 10)\n"
     ]
    },
    {
     "name": "stdout",
     "output_type": "stream",
     "text": [
      "\u001b[2m\u001b[36m(launch_and_evaluate pid=23756)\u001b[0m Evaluate for Client 2 - Accuracy: 0.84, Loss: 0.5218237882056499\n",
      "\u001b[2m\u001b[36m(launch_and_evaluate pid=22316)\u001b[0m Evaluate for Client 1 - Accuracy: 0.8506666666666667, Loss: 0.49974625700381475\n",
      "\u001b[2m\u001b[36m(launch_and_evaluate pid=5228)\u001b[0m Evaluate for Client 4 - Accuracy: 0.8415, Loss: 0.5386233684256182\n",
      "\u001b[2m\u001b[36m(launch_and_evaluate pid=19232)\u001b[0m Evaluate for Client 3 - Accuracy: 0.8476666666666667, Loss: 0.5072702950870696\n",
      "\u001b[2m\u001b[36m(launch_and_evaluate pid=23748)\u001b[0m Evaluate for Client 9 - Accuracy: 0.8536666666666667, Loss: 0.5053980839537362\n",
      "\u001b[2m\u001b[36m(launch_and_evaluate pid=23148)\u001b[0m Evaluate for Client 7 - Accuracy: 0.8506666666666667, Loss: 0.49974625700381475\n",
      "\u001b[2m\u001b[36m(launch_and_evaluate pid=3608)\u001b[0m Evaluate for Client 0 - Accuracy: 0.84, Loss: 0.5218237882056499\n",
      "\u001b[2m\u001b[36m(launch_and_evaluate pid=17404)\u001b[0m Evaluate for Client 5 - Accuracy: 0.8476666666666667, Loss: 0.5072702950870696\n"
     ]
    },
    {
     "name": "stderr",
     "output_type": "stream",
     "text": [
      "DEBUG flower 2022-10-26 21:36:02,212 | server.py:179 | evaluate_round 8 received 10 results and 0 failures\n",
      "DEBUG flower 2022-10-26 21:36:02,214 | server.py:215 | fit_round 9: strategy sampled 10 clients (out of 10)\n"
     ]
    },
    {
     "name": "stdout",
     "output_type": "stream",
     "text": [
      "\u001b[2m\u001b[36m(launch_and_evaluate pid=23756)\u001b[0m Evaluate for Client 6 - Accuracy: 0.8865, Loss: 0.40114884011530694\n",
      "\u001b[2m\u001b[36m(launch_and_evaluate pid=5228)\u001b[0m Evaluate for Client 8 - Accuracy: 0.8618333333333333, Loss: 0.4736495882137462\n",
      "\u001b[2m\u001b[36m(launch_and_fit pid=23756)\u001b[0m Training finished for round 9 for Client 7\n",
      "\u001b[2m\u001b[36m(launch_and_fit pid=5228)\u001b[0m Training finished for round 9 for Client 5\n",
      "\u001b[2m\u001b[36m(launch_and_fit pid=23748)\u001b[0m Training finished for round 9 for Client 2\n",
      "\u001b[2m\u001b[36m(launch_and_fit pid=3608)\u001b[0m Training finished for round 9 for Client 6\n",
      "\u001b[2m\u001b[36m(launch_and_fit pid=17404)\u001b[0m Training finished for round 9 for Client 0\n",
      "\u001b[2m\u001b[36m(launch_and_fit pid=23148)\u001b[0m Training finished for round 9 for Client 9\n",
      "\u001b[2m\u001b[36m(launch_and_fit pid=19232)\u001b[0m Training finished for round 9 for Client 8\n",
      "\u001b[2m\u001b[36m(launch_and_fit pid=22316)\u001b[0m Training finished for round 9 for Client 4\n"
     ]
    },
    {
     "name": "stderr",
     "output_type": "stream",
     "text": [
      "DEBUG flower 2022-10-26 21:36:04,295 | server.py:229 | fit_round 9 received 10 results and 0 failures\n"
     ]
    },
    {
     "name": "stdout",
     "output_type": "stream",
     "text": [
      "\u001b[2m\u001b[36m(launch_and_fit pid=5228)\u001b[0m Training finished for round 9 for Client 1\n",
      "\u001b[2m\u001b[36m(launch_and_fit pid=23748)\u001b[0m Training finished for round 9 for Client 3\n"
     ]
    },
    {
     "name": "stderr",
     "output_type": "stream",
     "text": [
      "INFO flower 2022-10-26 21:36:04,537 | server.py:116 | fit progress: (9, 0.4567570937565834, {'accuracy': 0.8644}, 36.3830547)\n",
      "DEBUG flower 2022-10-26 21:36:04,540 | server.py:165 | evaluate_round 9: strategy sampled 10 clients (out of 10)\n"
     ]
    },
    {
     "name": "stdout",
     "output_type": "stream",
     "text": [
      "\u001b[2m\u001b[36m(launch_and_evaluate pid=5228)\u001b[0m Evaluate for Client 9 - Accuracy: 0.8356666666666667, Loss: 0.5404974589529259\n",
      "\u001b[2m\u001b[36m(launch_and_evaluate pid=23748)\u001b[0m Evaluate for Client 3 - Accuracy: 0.8608333333333333, Loss: 0.47637192141409596\n",
      "\u001b[2m\u001b[36m(launch_and_evaluate pid=23756)\u001b[0m Evaluate for Client 6 - Accuracy: 0.8463333333333334, Loss: 0.5023951688987963\n",
      "\u001b[2m\u001b[36m(launch_and_evaluate pid=22316)\u001b[0m Evaluate for Client 5 - Accuracy: 0.8463333333333334, Loss: 0.5023951688987963\n",
      "\u001b[2m\u001b[36m(launch_and_evaluate pid=23148)\u001b[0m Evaluate for Client 1 - Accuracy: 0.8596666666666667, Loss: 0.4904333888488572\n",
      "\u001b[2m\u001b[36m(launch_and_evaluate pid=3608)\u001b[0m Evaluate for Client 0 - Accuracy: 0.8356666666666667, Loss: 0.5404974589529259\n",
      "\u001b[2m\u001b[36m(launch_and_evaluate pid=19232)\u001b[0m Evaluate for Client 7 - Accuracy: 0.8621666666666666, Loss: 0.4588371495080805\n",
      "\u001b[2m\u001b[36m(launch_and_evaluate pid=17404)\u001b[0m Evaluate for Client 8 - Accuracy: 0.8596666666666667, Loss: 0.4904333888488572\n"
     ]
    },
    {
     "name": "stderr",
     "output_type": "stream",
     "text": [
      "DEBUG flower 2022-10-26 21:36:06,071 | server.py:179 | evaluate_round 9 received 10 results and 0 failures\n",
      "DEBUG flower 2022-10-26 21:36:06,073 | server.py:215 | fit_round 10: strategy sampled 10 clients (out of 10)\n"
     ]
    },
    {
     "name": "stdout",
     "output_type": "stream",
     "text": [
      "\u001b[2m\u001b[36m(launch_and_evaluate pid=23748)\u001b[0m Evaluate for Client 2 - Accuracy: 0.8596666666666667, Loss: 0.4904333888488572\n",
      "\u001b[2m\u001b[36m(launch_and_evaluate pid=3608)\u001b[0m Evaluate for Client 4 - Accuracy: 0.8868333333333334, Loss: 0.39164773785529733\n",
      "\u001b[2m\u001b[36m(launch_and_fit pid=23748)\u001b[0m Training finished for round 10 for Client 7\n",
      "\u001b[2m\u001b[36m(launch_and_fit pid=23756)\u001b[0m Training finished for round 10 for Client 1\n",
      "\u001b[2m\u001b[36m(launch_and_fit pid=3608)\u001b[0m Training finished for round 10 for Client 0\n",
      "\u001b[2m\u001b[36m(launch_and_fit pid=19232)\u001b[0m Training finished for round 10 for Client 9\n",
      "\u001b[2m\u001b[36m(launch_and_fit pid=23148)\u001b[0m Training finished for round 10 for Client 3\n",
      "\u001b[2m\u001b[36m(launch_and_fit pid=17404)\u001b[0m Training finished for round 10 for Client 4\n",
      "\u001b[2m\u001b[36m(launch_and_fit pid=5228)\u001b[0m Training finished for round 10 for Client 2\n",
      "\u001b[2m\u001b[36m(launch_and_fit pid=22316)\u001b[0m Training finished for round 10 for Client 5\n"
     ]
    },
    {
     "name": "stderr",
     "output_type": "stream",
     "text": [
      "DEBUG flower 2022-10-26 21:36:07,949 | server.py:229 | fit_round 10 received 10 results and 0 failures\n",
      "INFO flower 2022-10-26 21:36:08,131 | server.py:116 | fit progress: (10, 0.4440053076505489, {'accuracy': 0.8697}, 39.976776599999994)\n",
      "DEBUG flower 2022-10-26 21:36:08,133 | server.py:165 | evaluate_round 10: strategy sampled 10 clients (out of 10)\n"
     ]
    },
    {
     "name": "stdout",
     "output_type": "stream",
     "text": [
      "\u001b[2m\u001b[36m(launch_and_fit pid=23756)\u001b[0m Training finished for round 10 for Client 8\n",
      "\u001b[2m\u001b[36m(launch_and_fit pid=23748)\u001b[0m Training finished for round 10 for Client 6\n",
      "\u001b[2m\u001b[36m(launch_and_evaluate pid=23756)\u001b[0m Evaluate for Client 3 - Accuracy: 0.8611666666666666, Loss: 0.47811728787385843\n",
      "\u001b[2m\u001b[36m(launch_and_evaluate pid=5228)\u001b[0m Evaluate for Client 6 - Accuracy: 0.851, Loss: 0.506625507918669\n",
      "\u001b[2m\u001b[36m(launch_and_evaluate pid=17404)\u001b[0m Evaluate for Client 5 - Accuracy: 0.8706666666666667, Loss: 0.44607409166161155\n",
      "\u001b[2m\u001b[36m(launch_and_evaluate pid=22316)\u001b[0m Evaluate for Client 4 - Accuracy: 0.8611666666666666, Loss: 0.47811728787385843\n",
      "\u001b[2m\u001b[36m(launch_and_evaluate pid=3608)\u001b[0m Evaluate for Client 2 - Accuracy: 0.8481666666666666, Loss: 0.4948387275290944\n",
      "\u001b[2m\u001b[36m(launch_and_evaluate pid=23148)\u001b[0m Evaluate for Client 7 - Accuracy: 0.8571666666666666, Loss: 0.48335185971273176\n",
      "\u001b[2m\u001b[36m(launch_and_evaluate pid=19232)\u001b[0m Evaluate for Client 8 - Accuracy: 0.8611666666666666, Loss: 0.47811728787385843\n",
      "\u001b[2m\u001b[36m(launch_and_evaluate pid=23748)\u001b[0m Evaluate for Client 1 - Accuracy: 0.8613333333333333, Loss: 0.47655427305699527\n"
     ]
    },
    {
     "name": "stderr",
     "output_type": "stream",
     "text": [
      "DEBUG flower 2022-10-26 21:36:09,722 | server.py:179 | evaluate_round 10 received 10 results and 0 failures\n"
     ]
    },
    {
     "name": "stdout",
     "output_type": "stream",
     "text": [
      "\u001b[2m\u001b[36m(launch_and_evaluate pid=23756)\u001b[0m Evaluate for Client 9 - Accuracy: 0.8636666666666667, Loss: 0.4661732514680801\n"
     ]
    },
    {
     "name": "stderr",
     "output_type": "stream",
     "text": [
      "DEBUG flower 2022-10-26 21:36:09,725 | server.py:215 | fit_round 11: strategy sampled 10 clients (out of 10)\n"
     ]
    },
    {
     "name": "stdout",
     "output_type": "stream",
     "text": [
      "\u001b[2m\u001b[36m(launch_and_evaluate pid=5228)\u001b[0m Evaluate for Client 0 - Accuracy: 0.8611666666666666, Loss: 0.47811728787385843\n",
      "\u001b[2m\u001b[36m(launch_and_fit pid=23756)\u001b[0m Training finished for round 11 for Client 1\n",
      "\u001b[2m\u001b[36m(launch_and_fit pid=5228)\u001b[0m Training finished for round 11 for Client 4\n",
      "\u001b[2m\u001b[36m(launch_and_fit pid=23748)\u001b[0m Training finished for round 11 for Client 2\n",
      "\u001b[2m\u001b[36m(launch_and_fit pid=22316)\u001b[0m Training finished for round 11 for Client 9\n",
      "\u001b[2m\u001b[36m(launch_and_fit pid=23148)\u001b[0m Training finished for round 11 for Client 8\n",
      "\u001b[2m\u001b[36m(launch_and_fit pid=19232)\u001b[0m Training finished for round 11 for Client 7\n",
      "\u001b[2m\u001b[36m(launch_and_fit pid=3608)\u001b[0m Training finished for round 11 for Client 6\n",
      "\u001b[2m\u001b[36m(launch_and_fit pid=17404)\u001b[0m Training finished for round 11 for Client 5\n"
     ]
    },
    {
     "name": "stderr",
     "output_type": "stream",
     "text": [
      "DEBUG flower 2022-10-26 21:36:11,549 | server.py:229 | fit_round 11 received 10 results and 0 failures\n"
     ]
    },
    {
     "name": "stdout",
     "output_type": "stream",
     "text": [
      "\u001b[2m\u001b[36m(launch_and_fit pid=23756)\u001b[0m Training finished for round 11 for Client 0\n",
      "\u001b[2m\u001b[36m(launch_and_fit pid=23748)\u001b[0m Training finished for round 11 for Client 3\n"
     ]
    },
    {
     "name": "stderr",
     "output_type": "stream",
     "text": [
      "INFO flower 2022-10-26 21:36:11,775 | server.py:116 | fit progress: (11, 0.44299782097582235, {'accuracy': 0.8688}, 43.620967199999996)\n",
      "DEBUG flower 2022-10-26 21:36:11,778 | server.py:165 | evaluate_round 11: strategy sampled 10 clients (out of 10)\n"
     ]
    },
    {
     "name": "stdout",
     "output_type": "stream",
     "text": [
      "\u001b[2m\u001b[36m(launch_and_evaluate pid=23748)\u001b[0m Evaluate for Client 7 - Accuracy: 0.8665, Loss: 0.4713069804937345\n",
      "\u001b[2m\u001b[36m(launch_and_evaluate pid=23756)\u001b[0m Evaluate for Client 2 - Accuracy: 0.8656666666666667, Loss: 0.461428248217144\n",
      "\u001b[2m\u001b[36m(launch_and_evaluate pid=19232)\u001b[0m Evaluate for Client 9 - Accuracy: 0.86, Loss: 0.4787478033466624\n",
      "\u001b[2m\u001b[36m(launch_and_evaluate pid=17404)\u001b[0m Evaluate for Client 4 - Accuracy: 0.8655, Loss: 0.47695153140967733\n",
      "\u001b[2m\u001b[36m(launch_and_evaluate pid=22316)\u001b[0m Evaluate for Client 1 - Accuracy: 0.8718333333333333, Loss: 0.44754217279994296\n",
      "\u001b[2m\u001b[36m(launch_and_evaluate pid=5228)\u001b[0m Evaluate for Client 6 - Accuracy: 0.8655, Loss: 0.47695153140967733\n",
      "\u001b[2m\u001b[36m(launch_and_evaluate pid=23148)\u001b[0m Evaluate for Client 0 - Accuracy: 0.8423333333333334, Loss: 0.5211014024760375\n",
      "\u001b[2m\u001b[36m(launch_and_evaluate pid=3608)\u001b[0m Evaluate for Client 8 - Accuracy: 0.8676666666666667, Loss: 0.44435270410056654\n"
     ]
    },
    {
     "name": "stderr",
     "output_type": "stream",
     "text": [
      "DEBUG flower 2022-10-26 21:36:13,352 | server.py:179 | evaluate_round 11 received 10 results and 0 failures\n",
      "DEBUG flower 2022-10-26 21:36:13,355 | server.py:215 | fit_round 12: strategy sampled 10 clients (out of 10)\n"
     ]
    },
    {
     "name": "stdout",
     "output_type": "stream",
     "text": [
      "\u001b[2m\u001b[36m(launch_and_evaluate pid=23756)\u001b[0m Evaluate for Client 3 - Accuracy: 0.8676666666666667, Loss: 0.44435270410056654\n",
      "\u001b[2m\u001b[36m(launch_and_evaluate pid=23748)\u001b[0m Evaluate for Client 5 - Accuracy: 0.8911666666666667, Loss: 0.3807862844293394\n",
      "\u001b[2m\u001b[36m(launch_and_fit pid=23756)\u001b[0m Training finished for round 12 for Client 1\n",
      "\u001b[2m\u001b[36m(launch_and_fit pid=5228)\u001b[0m Training finished for round 12 for Client 3\n",
      "\u001b[2m\u001b[36m(launch_and_fit pid=23748)\u001b[0m Training finished for round 12 for Client 8\n",
      "\u001b[2m\u001b[36m(launch_and_fit pid=3608)\u001b[0m Training finished for round 12 for Client 7\n",
      "\u001b[2m\u001b[36m(launch_and_fit pid=17404)\u001b[0m Training finished for round 12 for Client 4\n",
      "\u001b[2m\u001b[36m(launch_and_fit pid=23148)\u001b[0m Training finished for round 12 for Client 9\n",
      "\u001b[2m\u001b[36m(launch_and_fit pid=19232)\u001b[0m Training finished for round 12 for Client 6\n",
      "\u001b[2m\u001b[36m(launch_and_fit pid=22316)\u001b[0m Training finished for round 12 for Client 5\n"
     ]
    },
    {
     "name": "stderr",
     "output_type": "stream",
     "text": [
      "DEBUG flower 2022-10-26 21:36:15,403 | server.py:229 | fit_round 12 received 10 results and 0 failures\n"
     ]
    },
    {
     "name": "stdout",
     "output_type": "stream",
     "text": [
      "\u001b[2m\u001b[36m(launch_and_fit pid=23756)\u001b[0m Training finished for round 12 for Client 0\n"
     ]
    },
    {
     "name": "stderr",
     "output_type": "stream",
     "text": [
      "INFO flower 2022-10-26 21:36:15,643 | server.py:116 | fit progress: (12, 0.42733073277724887, {'accuracy': 0.8752}, 47.4896627)\n",
      "DEBUG flower 2022-10-26 21:36:15,645 | server.py:165 | evaluate_round 12: strategy sampled 10 clients (out of 10)\n"
     ]
    },
    {
     "name": "stdout",
     "output_type": "stream",
     "text": [
      "\u001b[2m\u001b[36m(launch_and_fit pid=5228)\u001b[0m Training finished for round 12 for Client 2\n",
      "\u001b[2m\u001b[36m(launch_and_evaluate pid=23756)\u001b[0m Evaluate for Client 7 - Accuracy: 0.8616666666666667, Loss: 0.4874180525169874\n",
      "\u001b[2m\u001b[36m(launch_and_evaluate pid=5228)\u001b[0m Evaluate for Client 3 - Accuracy: 0.8786666666666667, Loss: 0.4306202405556915\n",
      "\u001b[2m\u001b[36m(launch_and_evaluate pid=19232)\u001b[0m Evaluate for Client 1 - Accuracy: 0.8696666666666667, Loss: 0.4590798862966201\n",
      "\u001b[2m\u001b[36m(launch_and_evaluate pid=22316)\u001b[0m Evaluate for Client 2 - Accuracy: 0.8696666666666667, Loss: 0.4590798862966201\n",
      "\u001b[2m\u001b[36m(launch_and_evaluate pid=23148)\u001b[0m Evaluate for Client 4 - Accuracy: 0.8786666666666667, Loss: 0.4306202405556915\n",
      "\u001b[2m\u001b[36m(launch_and_evaluate pid=23748)\u001b[0m Evaluate for Client 8 - Accuracy: 0.8616666666666667, Loss: 0.4874180525169874\n",
      "\u001b[2m\u001b[36m(launch_and_evaluate pid=3608)\u001b[0m Evaluate for Client 6 - Accuracy: 0.8776666666666667, Loss: 0.4291302587700094\n",
      "\u001b[2m\u001b[36m(launch_and_evaluate pid=17404)\u001b[0m Evaluate for Client 0 - Accuracy: 0.87, Loss: 0.4617597183244171\n"
     ]
    },
    {
     "name": "stderr",
     "output_type": "stream",
     "text": [
      "DEBUG flower 2022-10-26 21:36:17,466 | server.py:179 | evaluate_round 12 received 10 results and 0 failures\n",
      "DEBUG flower 2022-10-26 21:36:17,468 | server.py:215 | fit_round 13: strategy sampled 10 clients (out of 10)\n"
     ]
    },
    {
     "name": "stdout",
     "output_type": "stream",
     "text": [
      "\u001b[2m\u001b[36m(launch_and_evaluate pid=23756)\u001b[0m Evaluate for Client 5 - Accuracy: 0.8776666666666667, Loss: 0.4291302587700094\n",
      "\u001b[2m\u001b[36m(launch_and_evaluate pid=19232)\u001b[0m Evaluate for Client 9 - Accuracy: 0.8718333333333333, Loss: 0.44871361014791317\n",
      "\u001b[2m\u001b[36m(launch_and_fit pid=23756)\u001b[0m Training finished for round 13 for Client 0\n",
      "\u001b[2m\u001b[36m(launch_and_fit pid=5228)\u001b[0m Training finished for round 13 for Client 2\n",
      "\u001b[2m\u001b[36m(launch_and_fit pid=3608)\u001b[0m Training finished for round 13 for Client 4\n",
      "\u001b[2m\u001b[36m(launch_and_fit pid=17404)\u001b[0m Training finished for round 13 for Client 1\n",
      "\u001b[2m\u001b[36m(launch_and_fit pid=22316)\u001b[0m Training finished for round 13 for Client 7\n",
      "\u001b[2m\u001b[36m(launch_and_fit pid=23148)\u001b[0m Training finished for round 13 for Client 3\n",
      "\u001b[2m\u001b[36m(launch_and_fit pid=19232)\u001b[0m Training finished for round 13 for Client 8\n",
      "\u001b[2m\u001b[36m(launch_and_fit pid=23748)\u001b[0m Training finished for round 13 for Client 5\n"
     ]
    },
    {
     "name": "stderr",
     "output_type": "stream",
     "text": [
      "DEBUG flower 2022-10-26 21:36:19,415 | server.py:229 | fit_round 13 received 10 results and 0 failures\n"
     ]
    },
    {
     "name": "stdout",
     "output_type": "stream",
     "text": [
      "\u001b[2m\u001b[36m(launch_and_fit pid=23756)\u001b[0m Training finished for round 13 for Client 6\n",
      "\u001b[2m\u001b[36m(launch_and_fit pid=17404)\u001b[0m Training finished for round 13 for Client 9\n"
     ]
    },
    {
     "name": "stderr",
     "output_type": "stream",
     "text": [
      "INFO flower 2022-10-26 21:36:19,621 | server.py:116 | fit progress: (13, 0.422522989575964, {'accuracy': 0.8774}, 51.4665253)\n",
      "DEBUG flower 2022-10-26 21:36:19,622 | server.py:165 | evaluate_round 13: strategy sampled 10 clients (out of 10)\n"
     ]
    },
    {
     "name": "stdout",
     "output_type": "stream",
     "text": [
      "\u001b[2m\u001b[36m(launch_and_evaluate pid=17404)\u001b[0m Evaluate for Client 6 - Accuracy: 0.8683333333333333, Loss: 0.45911973104303266\n",
      "\u001b[2m\u001b[36m(launch_and_evaluate pid=23756)\u001b[0m Evaluate for Client 1 - Accuracy: 0.8731666666666666, Loss: 0.44923125235173134\n",
      "\u001b[2m\u001b[36m(launch_and_evaluate pid=22316)\u001b[0m Evaluate for Client 5 - Accuracy: 0.8731666666666666, Loss: 0.44923125235173134\n",
      "\u001b[2m\u001b[36m(launch_and_evaluate pid=23148)\u001b[0m Evaluate for Client 3 - Accuracy: 0.8671666666666666, Loss: 0.4759067634637339\n",
      "\u001b[2m\u001b[36m(launch_and_evaluate pid=3608)\u001b[0m Evaluate for Client 7 - Accuracy: 0.876, Loss: 0.43705359651197523\n",
      "\u001b[2m\u001b[36m(launch_and_evaluate pid=23748)\u001b[0m Evaluate for Client 2 - Accuracy: 0.8741666666666666, Loss: 0.45302332453706934\n",
      "\u001b[2m\u001b[36m(launch_and_evaluate pid=5228)\u001b[0m Evaluate for Client 9 - Accuracy: 0.8623333333333333, Loss: 0.46541644306442415\n",
      "\u001b[2m\u001b[36m(launch_and_evaluate pid=19232)\u001b[0m Evaluate for Client 0 - Accuracy: 0.8623333333333333, Loss: 0.46541644306442415\n"
     ]
    },
    {
     "name": "stderr",
     "output_type": "stream",
     "text": [
      "DEBUG flower 2022-10-26 21:36:21,282 | server.py:179 | evaluate_round 13 received 10 results and 0 failures\n",
      "DEBUG flower 2022-10-26 21:36:21,284 | server.py:215 | fit_round 14: strategy sampled 10 clients (out of 10)\n"
     ]
    },
    {
     "name": "stdout",
     "output_type": "stream",
     "text": [
      "\u001b[2m\u001b[36m(launch_and_evaluate pid=17404)\u001b[0m Evaluate for Client 8 - Accuracy: 0.8731666666666666, Loss: 0.44923125235173134\n",
      "\u001b[2m\u001b[36m(launch_and_evaluate pid=22316)\u001b[0m Evaluate for Client 4 - Accuracy: 0.8795, Loss: 0.4225159405255806\n",
      "\u001b[2m\u001b[36m(launch_and_fit pid=22316)\u001b[0m Training finished for round 14 for Client 4\n",
      "\u001b[2m\u001b[36m(launch_and_fit pid=23748)\u001b[0m Training finished for round 14 for Client 5\n",
      "\u001b[2m\u001b[36m(launch_and_fit pid=17404)\u001b[0m Training finished for round 14 for Client 9\n",
      "\u001b[2m\u001b[36m(launch_and_fit pid=19232)\u001b[0m Training finished for round 14 for Client 6\n",
      "\u001b[2m\u001b[36m(launch_and_fit pid=23756)\u001b[0m Training finished for round 14 for Client 0\n",
      "\u001b[2m\u001b[36m(launch_and_fit pid=5228)\u001b[0m Training finished for round 14 for Client 7\n",
      "\u001b[2m\u001b[36m(launch_and_fit pid=23148)\u001b[0m Training finished for round 14 for Client 1\n",
      "\u001b[2m\u001b[36m(launch_and_fit pid=3608)\u001b[0m Training finished for round 14 for Client 2\n"
     ]
    },
    {
     "name": "stderr",
     "output_type": "stream",
     "text": [
      "DEBUG flower 2022-10-26 21:36:23,023 | server.py:229 | fit_round 14 received 10 results and 0 failures\n",
      "INFO flower 2022-10-26 21:36:23,220 | server.py:116 | fit progress: (14, 0.41417015448521727, {'accuracy': 0.8807}, 55.065546499999996)\n"
     ]
    },
    {
     "name": "stdout",
     "output_type": "stream",
     "text": [
      "\u001b[2m\u001b[36m(launch_and_fit pid=22316)\u001b[0m Training finished for round 14 for Client 8\n",
      "\u001b[2m\u001b[36m(launch_and_fit pid=23748)\u001b[0m Training finished for round 14 for Client 3\n"
     ]
    },
    {
     "name": "stderr",
     "output_type": "stream",
     "text": [
      "DEBUG flower 2022-10-26 21:36:23,221 | server.py:165 | evaluate_round 14: strategy sampled 10 clients (out of 10)\n"
     ]
    },
    {
     "name": "stdout",
     "output_type": "stream",
     "text": [
      "\u001b[2m\u001b[36m(launch_and_evaluate pid=23756)\u001b[0m Evaluate for Client 4 - Accuracy: 0.8686666666666667, Loss: 0.45336326366976454\n",
      "\u001b[2m\u001b[36m(launch_and_evaluate pid=22316)\u001b[0m Evaluate for Client 9 - Accuracy: 0.868, Loss: 0.4683078630033627\n",
      "\u001b[2m\u001b[36m(launch_and_evaluate pid=5228)\u001b[0m Evaluate for Client 1 - Accuracy: 0.8781666666666667, Loss: 0.4318236964284661\n",
      "\u001b[2m\u001b[36m(launch_and_evaluate pid=23148)\u001b[0m Evaluate for Client 3 - Accuracy: 0.857, Loss: 0.4867238136096181\n",
      "\u001b[2m\u001b[36m(launch_and_evaluate pid=23748)\u001b[0m Evaluate for Client 5 - Accuracy: 0.868, Loss: 0.4683078630033627\n",
      "\u001b[2m\u001b[36m(launch_and_evaluate pid=3608)\u001b[0m Evaluate for Client 8 - Accuracy: 0.8821666666666667, Loss: 0.41463760514278813\n",
      "\u001b[2m\u001b[36m(launch_and_evaluate pid=19232)\u001b[0m Evaluate for Client 7 - Accuracy: 0.868, Loss: 0.4683078630033627\n",
      "\u001b[2m\u001b[36m(launch_and_evaluate pid=17404)\u001b[0m Evaluate for Client 2 - Accuracy: 0.8686666666666667, Loss: 0.45336326366976454\n"
     ]
    },
    {
     "name": "stderr",
     "output_type": "stream",
     "text": [
      "DEBUG flower 2022-10-26 21:36:24,880 | server.py:179 | evaluate_round 14 received 10 results and 0 failures\n",
      "DEBUG flower 2022-10-26 21:36:24,882 | server.py:215 | fit_round 15: strategy sampled 10 clients (out of 10)\n"
     ]
    },
    {
     "name": "stdout",
     "output_type": "stream",
     "text": [
      "\u001b[2m\u001b[36m(launch_and_evaluate pid=23148)\u001b[0m Evaluate for Client 6 - Accuracy: 0.8811666666666667, Loss: 0.41744064475312653\n",
      "\u001b[2m\u001b[36m(launch_and_evaluate pid=23748)\u001b[0m Evaluate for Client 0 - Accuracy: 0.8821666666666667, Loss: 0.41463760514278813\n",
      "\u001b[2m\u001b[36m(launch_and_fit pid=23748)\u001b[0m Training finished for round 15 for Client 0\n",
      "\u001b[2m\u001b[36m(launch_and_fit pid=5228)\u001b[0m Training finished for round 15 for Client 8\n",
      "\u001b[2m\u001b[36m(launch_and_fit pid=23148)\u001b[0m Training finished for round 15 for Client 5\n",
      "\u001b[2m\u001b[36m(launch_and_fit pid=3608)\u001b[0m Training finished for round 15 for Client 7\n",
      "\u001b[2m\u001b[36m(launch_and_fit pid=19232)\u001b[0m Training finished for round 15 for Client 1\n",
      "\u001b[2m\u001b[36m(launch_and_fit pid=17404)\u001b[0m Training finished for round 15 for Client 4\n",
      "\u001b[2m\u001b[36m(launch_and_fit pid=23756)\u001b[0m Training finished for round 15 for Client 6\n",
      "\u001b[2m\u001b[36m(launch_and_fit pid=22316)\u001b[0m Training finished for round 15 for Client 9\n"
     ]
    },
    {
     "name": "stderr",
     "output_type": "stream",
     "text": [
      "DEBUG flower 2022-10-26 21:36:26,661 | server.py:229 | fit_round 15 received 10 results and 0 failures\n"
     ]
    },
    {
     "name": "stdout",
     "output_type": "stream",
     "text": [
      "\u001b[2m\u001b[36m(launch_and_fit pid=23148)\u001b[0m Training finished for round 15 for Client 2\n",
      "\u001b[2m\u001b[36m(launch_and_fit pid=23748)\u001b[0m Training finished for round 15 for Client 3\n"
     ]
    },
    {
     "name": "stderr",
     "output_type": "stream",
     "text": [
      "INFO flower 2022-10-26 21:36:26,910 | server.py:116 | fit progress: (15, 0.4030618707219662, {'accuracy': 0.8862}, 58.756073)\n",
      "DEBUG flower 2022-10-26 21:36:26,912 | server.py:165 | evaluate_round 15: strategy sampled 10 clients (out of 10)\n"
     ]
    },
    {
     "name": "stdout",
     "output_type": "stream",
     "text": [
      "\u001b[2m\u001b[36m(launch_and_evaluate pid=23748)\u001b[0m Evaluate for Client 3 - Accuracy: 0.878, Loss: 0.436224591792447\n",
      "\u001b[2m\u001b[36m(launch_and_evaluate pid=23756)\u001b[0m Evaluate for Client 4 - Accuracy: 0.877, Loss: 0.43285204929903676\n",
      "\u001b[2m\u001b[36m(launch_and_evaluate pid=23148)\u001b[0m Evaluate for Client 8 - Accuracy: 0.8638333333333333, Loss: 0.47301922096363863\n",
      "\u001b[2m\u001b[36m(launch_and_evaluate pid=19232)\u001b[0m Evaluate for Client 9 - Accuracy: 0.87, Loss: 0.4555114768386279\n",
      "\u001b[2m\u001b[36m(launch_and_evaluate pid=17404)\u001b[0m Evaluate for Client 5 - Accuracy: 0.87, Loss: 0.4555114768386279\n",
      "\u001b[2m\u001b[36m(launch_and_evaluate pid=22316)\u001b[0m Evaluate for Client 2 - Accuracy: 0.8638333333333333, Loss: 0.47301922096363863\n",
      "\u001b[2m\u001b[36m(launch_and_evaluate pid=5228)\u001b[0m Evaluate for Client 7 - Accuracy: 0.87, Loss: 0.4555114768386279\n",
      "\u001b[2m\u001b[36m(launch_and_evaluate pid=3608)\u001b[0m Evaluate for Client 1 - Accuracy: 0.87, Loss: 0.4555114768386279\n"
     ]
    },
    {
     "name": "stderr",
     "output_type": "stream",
     "text": [
      "DEBUG flower 2022-10-26 21:36:28,752 | server.py:179 | evaluate_round 15 received 10 results and 0 failures\n",
      "DEBUG flower 2022-10-26 21:36:28,755 | server.py:215 | fit_round 16: strategy sampled 10 clients (out of 10)\n"
     ]
    },
    {
     "name": "stdout",
     "output_type": "stream",
     "text": [
      "\u001b[2m\u001b[36m(launch_and_evaluate pid=23756)\u001b[0m Evaluate for Client 0 - Accuracy: 0.886, Loss: 0.4054351897754726\n",
      "\u001b[2m\u001b[36m(launch_and_evaluate pid=23748)\u001b[0m Evaluate for Client 6 - Accuracy: 0.888, Loss: 0.40680753035451295\n",
      "\u001b[2m\u001b[36m(launch_and_fit pid=23748)\u001b[0m Training finished for round 16 for Client 7\n",
      "\u001b[2m\u001b[36m(launch_and_fit pid=23756)\u001b[0m Training finished for round 16 for Client 4\n",
      "\u001b[2m\u001b[36m(launch_and_fit pid=22316)\u001b[0m Training finished for round 16 for Client 1\n",
      "\u001b[2m\u001b[36m(launch_and_fit pid=5228)\u001b[0m Training finished for round 16 for Client 2\n",
      "\u001b[2m\u001b[36m(launch_and_fit pid=23148)\u001b[0m Training finished for round 16 for Client 8\n",
      "\u001b[2m\u001b[36m(launch_and_fit pid=19232)\u001b[0m Training finished for round 16 for Client 0\n",
      "\u001b[2m\u001b[36m(launch_and_fit pid=3608)\u001b[0m Training finished for round 16 for Client 5\n",
      "\u001b[2m\u001b[36m(launch_and_fit pid=17404)\u001b[0m Training finished for round 16 for Client 9\n"
     ]
    },
    {
     "name": "stderr",
     "output_type": "stream",
     "text": [
      "DEBUG flower 2022-10-26 21:36:30,842 | server.py:229 | fit_round 16 received 10 results and 0 failures\n"
     ]
    },
    {
     "name": "stdout",
     "output_type": "stream",
     "text": [
      "\u001b[2m\u001b[36m(launch_and_fit pid=23748)\u001b[0m Training finished for round 16 for Client 6\n",
      "\u001b[2m\u001b[36m(launch_and_fit pid=23756)\u001b[0m Training finished for round 16 for Client 3\n"
     ]
    },
    {
     "name": "stderr",
     "output_type": "stream",
     "text": [
      "INFO flower 2022-10-26 21:36:31,075 | server.py:116 | fit progress: (16, 0.4000781447869982, {'accuracy': 0.8874}, 62.9211483)\n",
      "DEBUG flower 2022-10-26 21:36:31,077 | server.py:165 | evaluate_round 16: strategy sampled 10 clients (out of 10)\n"
     ]
    },
    {
     "name": "stdout",
     "output_type": "stream",
     "text": [
      "\u001b[2m\u001b[36m(launch_and_evaluate pid=23756)\u001b[0m Evaluate for Client 4 - Accuracy: 0.8628333333333333, Loss: 0.46826177819790304\n",
      "\u001b[2m\u001b[36m(launch_and_evaluate pid=23148)\u001b[0m Evaluate for Client 0 - Accuracy: 0.8868333333333334, Loss: 0.4004181646635407\n",
      "\u001b[2m\u001b[36m(launch_and_evaluate pid=23748)\u001b[0m Evaluate for Client 9 - Accuracy: 0.879, Loss: 0.42975933631747393\n",
      "\u001b[2m\u001b[36m(launch_and_evaluate pid=3608)\u001b[0m Evaluate for Client 1 - Accuracy: 0.8868333333333334, Loss: 0.4004181646635407\n",
      "\u001b[2m\u001b[36m(launch_and_evaluate pid=5228)\u001b[0m Evaluate for Client 6 - Accuracy: 0.8663333333333333, Loss: 0.4450981613167345\n",
      "\u001b[2m\u001b[36m(launch_and_evaluate pid=22316)\u001b[0m Evaluate for Client 7 - Accuracy: 0.8868333333333334, Loss: 0.4004181646635407\n",
      "\u001b[2m\u001b[36m(launch_and_evaluate pid=19232)\u001b[0m Evaluate for Client 8 - Accuracy: 0.8788333333333334, Loss: 0.4323540287602964\n",
      "\u001b[2m\u001b[36m(launch_and_evaluate pid=17404)\u001b[0m Evaluate for Client 3 - Accuracy: 0.8628333333333333, Loss: 0.46826177819790304\n"
     ]
    },
    {
     "name": "stderr",
     "output_type": "stream",
     "text": [
      "DEBUG flower 2022-10-26 21:36:32,804 | server.py:179 | evaluate_round 16 received 10 results and 0 failures\n",
      "DEBUG flower 2022-10-26 21:36:32,807 | server.py:215 | fit_round 17: strategy sampled 10 clients (out of 10)\n"
     ]
    },
    {
     "name": "stdout",
     "output_type": "stream",
     "text": [
      "\u001b[2m\u001b[36m(launch_and_evaluate pid=23756)\u001b[0m Evaluate for Client 2 - Accuracy: 0.8663333333333333, Loss: 0.4450981613167345\n",
      "\u001b[2m\u001b[36m(launch_and_evaluate pid=23748)\u001b[0m Evaluate for Client 5 - Accuracy: 0.8628333333333333, Loss: 0.46826177819790304\n",
      "\u001b[2m\u001b[36m(launch_and_fit pid=23748)\u001b[0m Training finished for round 17 for Client 5\n",
      "\u001b[2m\u001b[36m(launch_and_fit pid=23756)\u001b[0m Training finished for round 17 for Client 9\n",
      "\u001b[2m\u001b[36m(launch_and_fit pid=22316)\u001b[0m Training finished for round 17 for Client 3\n",
      "\u001b[2m\u001b[36m(launch_and_fit pid=5228)\u001b[0m Training finished for round 17 for Client 0\n",
      "\u001b[2m\u001b[36m(launch_and_fit pid=19232)\u001b[0m Training finished for round 17 for Client 4\n",
      "\u001b[2m\u001b[36m(launch_and_fit pid=17404)\u001b[0m Training finished for round 17 for Client 6\n",
      "\u001b[2m\u001b[36m(launch_and_fit pid=23148)\u001b[0m Training finished for round 17 for Client 2\n",
      "\u001b[2m\u001b[36m(launch_and_fit pid=3608)\u001b[0m Training finished for round 17 for Client 8\n"
     ]
    },
    {
     "name": "stderr",
     "output_type": "stream",
     "text": [
      "DEBUG flower 2022-10-26 21:36:34,864 | server.py:229 | fit_round 17 received 10 results and 0 failures\n"
     ]
    },
    {
     "name": "stdout",
     "output_type": "stream",
     "text": [
      "\u001b[2m\u001b[36m(launch_and_fit pid=23748)\u001b[0m Training finished for round 17 for Client 7\n",
      "\u001b[2m\u001b[36m(launch_and_fit pid=23756)\u001b[0m Training finished for round 17 for Client 1\n"
     ]
    },
    {
     "name": "stderr",
     "output_type": "stream",
     "text": [
      "INFO flower 2022-10-26 21:36:35,082 | server.py:116 | fit progress: (17, 0.3968555813488529, {'accuracy': 0.8883}, 66.9278997)\n",
      "DEBUG flower 2022-10-26 21:36:35,085 | server.py:165 | evaluate_round 17: strategy sampled 10 clients (out of 10)\n"
     ]
    },
    {
     "name": "stdout",
     "output_type": "stream",
     "text": [
      "\u001b[2m\u001b[36m(launch_and_evaluate pid=23748)\u001b[0m Evaluate for Client 4 - Accuracy: 0.8721666666666666, Loss: 0.44006926724976625\n",
      "\u001b[2m\u001b[36m(launch_and_evaluate pid=23148)\u001b[0m Evaluate for Client 9 - Accuracy: 0.8661666666666666, Loss: 0.4659686047490663\n",
      "\u001b[2m\u001b[36m(launch_and_evaluate pid=23756)\u001b[0m Evaluate for Client 1 - Accuracy: 0.8788333333333334, Loss: 0.42412154021520615\n",
      "\u001b[2m\u001b[36m(launch_and_evaluate pid=22316)\u001b[0m Evaluate for Client 2 - Accuracy: 0.8735, Loss: 0.44703645818521703\n",
      "\u001b[2m\u001b[36m(launch_and_evaluate pid=3608)\u001b[0m Evaluate for Client 3 - Accuracy: 0.8661666666666666, Loss: 0.4659686047490663\n",
      "\u001b[2m\u001b[36m(launch_and_evaluate pid=17404)\u001b[0m Evaluate for Client 7 - Accuracy: 0.9048333333333334, Loss: 0.3408140265737562\n",
      "\u001b[2m\u001b[36m(launch_and_evaluate pid=5228)\u001b[0m Evaluate for Client 5 - Accuracy: 0.8805, Loss: 0.4294470834017981\n",
      "\u001b[2m\u001b[36m(launch_and_evaluate pid=19232)\u001b[0m Evaluate for Client 0 - Accuracy: 0.8845, Loss: 0.41316127584895335\n"
     ]
    },
    {
     "name": "stderr",
     "output_type": "stream",
     "text": [
      "DEBUG flower 2022-10-26 21:36:36,886 | server.py:179 | evaluate_round 17 received 10 results and 0 failures\n",
      "DEBUG flower 2022-10-26 21:36:36,888 | server.py:215 | fit_round 18: strategy sampled 10 clients (out of 10)\n"
     ]
    },
    {
     "name": "stdout",
     "output_type": "stream",
     "text": [
      "\u001b[2m\u001b[36m(launch_and_evaluate pid=23748)\u001b[0m Evaluate for Client 6 - Accuracy: 0.8721666666666666, Loss: 0.44006926724976625\n",
      "\u001b[2m\u001b[36m(launch_and_evaluate pid=23148)\u001b[0m Evaluate for Client 8 - Accuracy: 0.8735, Loss: 0.44703645818521703\n",
      "\u001b[2m\u001b[36m(launch_and_fit pid=19232)\u001b[0m Training finished for round 18 for Client 3\n",
      "\u001b[2m\u001b[36m(launch_and_fit pid=5228)\u001b[0m Training finished for round 18 for Client 2\n",
      "\u001b[2m\u001b[36m(launch_and_fit pid=23148)\u001b[0m Training finished for round 18 for Client 5\n",
      "\u001b[2m\u001b[36m(launch_and_fit pid=23756)\u001b[0m Training finished for round 18 for Client 8\n",
      "\u001b[2m\u001b[36m(launch_and_fit pid=17404)\u001b[0m Training finished for round 18 for Client 6\n",
      "\u001b[2m\u001b[36m(launch_and_fit pid=22316)\u001b[0m Training finished for round 18 for Client 9\n",
      "\u001b[2m\u001b[36m(launch_and_fit pid=23748)\u001b[0m Training finished for round 18 for Client 0\n",
      "\u001b[2m\u001b[36m(launch_and_fit pid=3608)\u001b[0m Training finished for round 18 for Client 1\n"
     ]
    },
    {
     "name": "stderr",
     "output_type": "stream",
     "text": [
      "DEBUG flower 2022-10-26 21:36:38,893 | server.py:229 | fit_round 18 received 10 results and 0 failures\n"
     ]
    },
    {
     "name": "stdout",
     "output_type": "stream",
     "text": [
      "\u001b[2m\u001b[36m(launch_and_fit pid=5228)\u001b[0m Training finished for round 18 for Client 4\n",
      "\u001b[2m\u001b[36m(launch_and_fit pid=19232)\u001b[0m Training finished for round 18 for Client 7\n"
     ]
    },
    {
     "name": "stderr",
     "output_type": "stream",
     "text": [
      "INFO flower 2022-10-26 21:36:39,124 | server.py:116 | fit progress: (18, 0.39405597435849893, {'accuracy': 0.8886}, 70.9703129)\n",
      "DEBUG flower 2022-10-26 21:36:39,127 | server.py:165 | evaluate_round 18: strategy sampled 10 clients (out of 10)\n"
     ]
    },
    {
     "name": "stdout",
     "output_type": "stream",
     "text": [
      "\u001b[2m\u001b[36m(launch_and_evaluate pid=5228)\u001b[0m Evaluate for Client 9 - Accuracy: 0.8781666666666667, Loss: 0.4234573361715843\n",
      "\u001b[2m\u001b[36m(launch_and_evaluate pid=19232)\u001b[0m Evaluate for Client 2 - Accuracy: 0.89, Loss: 0.39403103612014106\n",
      "\u001b[2m\u001b[36m(launch_and_evaluate pid=3608)\u001b[0m Evaluate for Client 0 - Accuracy: 0.8735, Loss: 0.4430945626088115\n",
      "\u001b[2m\u001b[36m(launch_and_evaluate pid=17404)\u001b[0m Evaluate for Client 3 - Accuracy: 0.904, Loss: 0.33861435725495764\n",
      "\u001b[2m\u001b[36m(launch_and_evaluate pid=23748)\u001b[0m Evaluate for Client 7 - Accuracy: 0.8673333333333333, Loss: 0.43933649733015256\n",
      "\u001b[2m\u001b[36m(launch_and_evaluate pid=23756)\u001b[0m Evaluate for Client 5 - Accuracy: 0.8908333333333334, Loss: 0.39666126962290565\n",
      "\u001b[2m\u001b[36m(launch_and_evaluate pid=22316)\u001b[0m Evaluate for Client 4 - Accuracy: 0.8781666666666667, Loss: 0.4234573361715843\n",
      "\u001b[2m\u001b[36m(launch_and_evaluate pid=23148)\u001b[0m Evaluate for Client 1 - Accuracy: 0.89, Loss: 0.39403103612014106\n"
     ]
    },
    {
     "name": "stderr",
     "output_type": "stream",
     "text": [
      "DEBUG flower 2022-10-26 21:36:40,695 | server.py:179 | evaluate_round 18 received 10 results and 0 failures\n",
      "DEBUG flower 2022-10-26 21:36:40,698 | server.py:215 | fit_round 19: strategy sampled 10 clients (out of 10)\n"
     ]
    },
    {
     "name": "stdout",
     "output_type": "stream",
     "text": [
      "\u001b[2m\u001b[36m(launch_and_evaluate pid=5228)\u001b[0m Evaluate for Client 6 - Accuracy: 0.8781666666666667, Loss: 0.4234573361715843\n",
      "\u001b[2m\u001b[36m(launch_and_evaluate pid=19232)\u001b[0m Evaluate for Client 8 - Accuracy: 0.89, Loss: 0.39403103612014106\n",
      "\u001b[2m\u001b[36m(launch_and_fit pid=19232)\u001b[0m Training finished for round 19 for Client 8\n",
      "\u001b[2m\u001b[36m(launch_and_fit pid=22316)\u001b[0m Training finished for round 19 for Client 5\n",
      "\u001b[2m\u001b[36m(launch_and_fit pid=5228)\u001b[0m Training finished for round 19 for Client 4\n",
      "\u001b[2m\u001b[36m(launch_and_fit pid=23148)\u001b[0m Training finished for round 19 for Client 7\n",
      "\u001b[2m\u001b[36m(launch_and_fit pid=23748)\u001b[0m Training finished for round 19 for Client 1\n",
      "\u001b[2m\u001b[36m(launch_and_fit pid=23756)\u001b[0m Training finished for round 19 for Client 0\n",
      "\u001b[2m\u001b[36m(launch_and_fit pid=3608)\u001b[0m Training finished for round 19 for Client 9\n",
      "\u001b[2m\u001b[36m(launch_and_fit pid=17404)\u001b[0m Training finished for round 19 for Client 3\n"
     ]
    },
    {
     "name": "stderr",
     "output_type": "stream",
     "text": [
      "DEBUG flower 2022-10-26 21:36:42,711 | server.py:229 | fit_round 19 received 10 results and 0 failures\n"
     ]
    },
    {
     "name": "stdout",
     "output_type": "stream",
     "text": [
      "\u001b[2m\u001b[36m(launch_and_fit pid=5228)\u001b[0m Training finished for round 19 for Client 2\n",
      "\u001b[2m\u001b[36m(launch_and_fit pid=19232)\u001b[0m Training finished for round 19 for Client 6\n"
     ]
    },
    {
     "name": "stderr",
     "output_type": "stream",
     "text": [
      "INFO flower 2022-10-26 21:36:42,943 | server.py:116 | fit progress: (19, 0.39181884252224547, {'accuracy': 0.8906}, 74.7890923)\n",
      "DEBUG flower 2022-10-26 21:36:42,945 | server.py:165 | evaluate_round 19: strategy sampled 10 clients (out of 10)\n"
     ]
    },
    {
     "name": "stdout",
     "output_type": "stream",
     "text": [
      "\u001b[2m\u001b[36m(launch_and_evaluate pid=19232)\u001b[0m Evaluate for Client 9 - Accuracy: 0.8801666666666667, Loss: 0.41895902137382\n",
      "\u001b[2m\u001b[36m(launch_and_evaluate pid=23756)\u001b[0m Evaluate for Client 1 - Accuracy: 0.8803333333333333, Loss: 0.4311019534033959\n",
      "\u001b[2m\u001b[36m(launch_and_evaluate pid=22316)\u001b[0m Evaluate for Client 3 - Accuracy: 0.9061666666666667, Loss: 0.3360915573596953\n",
      "\u001b[2m\u001b[36m(launch_and_evaluate pid=5228)\u001b[0m Evaluate for Client 8 - Accuracy: 0.8801666666666667, Loss: 0.41895902137382\n",
      "\u001b[2m\u001b[36m(launch_and_evaluate pid=23148)\u001b[0m Evaluate for Client 5 - Accuracy: 0.8918333333333334, Loss: 0.3914410404382649\n",
      "\u001b[2m\u001b[36m(launch_and_evaluate pid=3608)\u001b[0m Evaluate for Client 7 - Accuracy: 0.885, Loss: 0.4082540645866058\n",
      "\u001b[2m\u001b[36m(launch_and_evaluate pid=17404)\u001b[0m Evaluate for Client 0 - Accuracy: 0.8675, Loss: 0.4603616447229309\n",
      "\u001b[2m\u001b[36m(launch_and_evaluate pid=23748)\u001b[0m Evaluate for Client 6 - Accuracy: 0.8803333333333333, Loss: 0.4311019534033959\n"
     ]
    },
    {
     "name": "stderr",
     "output_type": "stream",
     "text": [
      "DEBUG flower 2022-10-26 21:36:44,752 | server.py:179 | evaluate_round 19 received 10 results and 0 failures\n",
      "DEBUG flower 2022-10-26 21:36:44,755 | server.py:215 | fit_round 20: strategy sampled 10 clients (out of 10)\n"
     ]
    },
    {
     "name": "stdout",
     "output_type": "stream",
     "text": [
      "\u001b[2m\u001b[36m(launch_and_evaluate pid=19232)\u001b[0m Evaluate for Client 4 - Accuracy: 0.8801666666666667, Loss: 0.41895902137382\n",
      "\u001b[2m\u001b[36m(launch_and_evaluate pid=22316)\u001b[0m Evaluate for Client 2 - Accuracy: 0.876, Loss: 0.4410758538864903\n",
      "\u001b[2m\u001b[36m(launch_and_fit pid=22316)\u001b[0m Training finished for round 20 for Client 3\n",
      "\u001b[2m\u001b[36m(launch_and_fit pid=19232)\u001b[0m Training finished for round 20 for Client 5\n",
      "\u001b[2m\u001b[36m(launch_and_fit pid=23748)\u001b[0m Training finished for round 20 for Client 4\n",
      "\u001b[2m\u001b[36m(launch_and_fit pid=23148)\u001b[0m Training finished for round 20 for Client 2\n",
      "\u001b[2m\u001b[36m(launch_and_fit pid=17404)\u001b[0m Training finished for round 20 for Client 7\n",
      "\u001b[2m\u001b[36m(launch_and_fit pid=23756)\u001b[0m Training finished for round 20 for Client 6\n",
      "\u001b[2m\u001b[36m(launch_and_fit pid=5228)\u001b[0m Training finished for round 20 for Client 8\n",
      "\u001b[2m\u001b[36m(launch_and_fit pid=3608)\u001b[0m Training finished for round 20 for Client 9\n"
     ]
    },
    {
     "name": "stderr",
     "output_type": "stream",
     "text": [
      "DEBUG flower 2022-10-26 21:36:46,687 | server.py:229 | fit_round 20 received 10 results and 0 failures\n"
     ]
    },
    {
     "name": "stdout",
     "output_type": "stream",
     "text": [
      "\u001b[2m\u001b[36m(launch_and_fit pid=22316)\u001b[0m Training finished for round 20 for Client 1\n",
      "\u001b[2m\u001b[36m(launch_and_fit pid=23748)\u001b[0m Training finished for round 20 for Client 0\n"
     ]
    },
    {
     "name": "stderr",
     "output_type": "stream",
     "text": [
      "INFO flower 2022-10-26 21:36:46,997 | server.py:116 | fit progress: (20, 0.3901620369023646, {'accuracy': 0.8888}, 78.8428472)\n",
      "DEBUG flower 2022-10-26 21:36:47,000 | server.py:165 | evaluate_round 20: strategy sampled 10 clients (out of 10)\n"
     ]
    },
    {
     "name": "stdout",
     "output_type": "stream",
     "text": [
      "\u001b[2m\u001b[36m(launch_and_evaluate pid=22316)\u001b[0m Evaluate for Client 4 - Accuracy: 0.8803333333333333, Loss: 0.4210924474380631\n",
      "\u001b[2m\u001b[36m(launch_and_evaluate pid=23748)\u001b[0m Evaluate for Client 7 - Accuracy: 0.8928333333333334, Loss: 0.3920644841508133\n",
      "\u001b[2m\u001b[36m(launch_and_evaluate pid=23756)\u001b[0m Evaluate for Client 3 - Accuracy: 0.891, Loss: 0.38920021735238924\n",
      "\u001b[2m\u001b[36m(launch_and_evaluate pid=5228)\u001b[0m Evaluate for Client 2 - Accuracy: 0.8928333333333334, Loss: 0.3920644841508133\n",
      "\u001b[2m\u001b[36m(launch_and_evaluate pid=23148)\u001b[0m Evaluate for Client 8 - Accuracy: 0.8798333333333334, Loss: 0.41933273651806907\n",
      "\u001b[2m\u001b[36m(launch_and_evaluate pid=19232)\u001b[0m Evaluate for Client 0 - Accuracy: 0.9046666666666666, Loss: 0.3346912832126185\n",
      "\u001b[2m\u001b[36m(launch_and_evaluate pid=3608)\u001b[0m Evaluate for Client 5 - Accuracy: 0.8855, Loss: 0.40693791320901535\n",
      "\u001b[2m\u001b[36m(launch_and_evaluate pid=17404)\u001b[0m Evaluate for Client 6 - Accuracy: 0.8803333333333333, Loss: 0.4210924474380631\n"
     ]
    },
    {
     "name": "stderr",
     "output_type": "stream",
     "text": [
      "DEBUG flower 2022-10-26 21:36:48,735 | server.py:179 | evaluate_round 20 received 10 results and 0 failures\n",
      "INFO flower 2022-10-26 21:36:48,738 | server.py:144 | FL finished in 80.5837344\n",
      "INFO flower 2022-10-26 21:36:48,740 | app.py:180 | app_fit: losses_distributed [(1, 1.3362465672042048), (2, 0.7356410930330116), (3, 0.5563196543571093), (4, 0.5468685054798318), (5, 0.5387834402091146), (6, 0.5220944687566411), (7, 0.5244525070308981), (8, 0.4976500561301475), (9, 0.48839422310274894), (10, 0.4786086862842617), (11, 0.4603521362783348), (12, 0.4522970204750947), (13, 0.45261459992654346), (14, 0.4476913481426404), (15, 0.44494037105032586), (16, 0.43583495162955704), (17, 0.43136925864078124), (18, 0.40701718036920037), (19, 0.4156305131922239), (20, 0.3998154124023924)]\n",
      "INFO flower 2022-10-26 21:36:48,742 | app.py:181 | app_fit: metrics_distributed {}\n",
      "INFO flower 2022-10-26 21:36:48,743 | app.py:182 | app_fit: losses_centralized [(0, 2.3025850929940455), (1, 1.3277909087574342), (2, 0.7227150311788029), (3, 0.5341110766653655), (4, 0.5095080068756908), (5, 0.49801024524231263), (6, 0.4871907655614814), (7, 0.4829463515371517), (8, 0.4703486550784219), (9, 0.4567570937565834), (10, 0.4440053076505489), (11, 0.44299782097582235), (12, 0.42733073277724887), (13, 0.422522989575964), (14, 0.41417015448521727), (15, 0.4030618707219662), (16, 0.4000781447869982), (17, 0.3968555813488529), (18, 0.39405597435849893), (19, 0.39181884252224547), (20, 0.3901620369023646)]\n",
      "INFO flower 2022-10-26 21:36:48,745 | app.py:183 | app_fit: metrics_centralized {'accuracy': [(0, 0.098), (1, 0.68), (2, 0.775), (3, 0.8355), (4, 0.8433), (5, 0.8495), (6, 0.8529), (7, 0.8548), (8, 0.8603), (9, 0.8644), (10, 0.8697), (11, 0.8688), (12, 0.8752), (13, 0.8774), (14, 0.8807), (15, 0.8862), (16, 0.8874), (17, 0.8883), (18, 0.8886), (19, 0.8906), (20, 0.8888)]}\n"
     ]
    },
    {
     "name": "stdout",
     "output_type": "stream",
     "text": [
      "\u001b[2m\u001b[36m(launch_and_evaluate pid=22316)\u001b[0m Evaluate for Client 1 - Accuracy: 0.8748333333333334, Loss: 0.42961362640326534\n"
     ]
    },
    {
     "data": {
      "text/plain": [
       "History (loss, distributed):\n",
       "\tround 1: 1.3362465672042048\n",
       "\tround 2: 0.7356410930330116\n",
       "\tround 3: 0.5563196543571093\n",
       "\tround 4: 0.5468685054798318\n",
       "\tround 5: 0.5387834402091146\n",
       "\tround 6: 0.5220944687566411\n",
       "\tround 7: 0.5244525070308981\n",
       "\tround 8: 0.4976500561301475\n",
       "\tround 9: 0.48839422310274894\n",
       "\tround 10: 0.4786086862842617\n",
       "\tround 11: 0.4603521362783348\n",
       "\tround 12: 0.4522970204750947\n",
       "\tround 13: 0.45261459992654346\n",
       "\tround 14: 0.4476913481426404\n",
       "\tround 15: 0.44494037105032586\n",
       "\tround 16: 0.43583495162955704\n",
       "\tround 17: 0.43136925864078124\n",
       "\tround 18: 0.40701718036920037\n",
       "\tround 19: 0.4156305131922239\n",
       "\tround 20: 0.3998154124023924\n",
       "History (loss, centralized):\n",
       "\tround 0: 2.3025850929940455\n",
       "\tround 1: 1.3277909087574342\n",
       "\tround 2: 0.7227150311788029\n",
       "\tround 3: 0.5341110766653655\n",
       "\tround 4: 0.5095080068756908\n",
       "\tround 5: 0.49801024524231263\n",
       "\tround 6: 0.4871907655614814\n",
       "\tround 7: 0.4829463515371517\n",
       "\tround 8: 0.4703486550784219\n",
       "\tround 9: 0.4567570937565834\n",
       "\tround 10: 0.4440053076505489\n",
       "\tround 11: 0.44299782097582235\n",
       "\tround 12: 0.42733073277724887\n",
       "\tround 13: 0.422522989575964\n",
       "\tround 14: 0.41417015448521727\n",
       "\tround 15: 0.4030618707219662\n",
       "\tround 16: 0.4000781447869982\n",
       "\tround 17: 0.3968555813488529\n",
       "\tround 18: 0.39405597435849893\n",
       "\tround 19: 0.39181884252224547\n",
       "\tround 20: 0.3901620369023646\n",
       "History (metrics, centralized):\n",
       "{'accuracy': [(0, 0.098), (1, 0.68), (2, 0.775), (3, 0.8355), (4, 0.8433), (5, 0.8495), (6, 0.8529), (7, 0.8548), (8, 0.8603), (9, 0.8644), (10, 0.8697), (11, 0.8688), (12, 0.8752), (13, 0.8774), (14, 0.8807), (15, 0.8862), (16, 0.8874), (17, 0.8883), (18, 0.8886), (19, 0.8906), (20, 0.8888)]}"
      ]
     },
     "execution_count": 7,
     "metadata": {},
     "output_type": "execute_result"
    },
    {
     "name": "stdout",
     "output_type": "stream",
     "text": [
      "\u001b[2m\u001b[36m(launch_and_evaluate pid=23748)\u001b[0m Evaluate for Client 9 - Accuracy: 0.8928333333333334, Loss: 0.3920644841508133\n"
     ]
    }
   ],
   "source": [
    "def fit_round(server_round: int) -> Dict:\n",
    "    \"\"\"Send round number to client.\"\"\"\n",
    "    return {\"server_round\": server_round}\n",
    "\n",
    "\n",
    "def get_evaluate_fn(model: LogisticRegression):\n",
    "    \"\"\"Return an evaluation function for server-side evaluation.\"\"\"\n",
    "\n",
    "    # Load test data here to avoid the overhead of doing it in `evaluate` itself\n",
    "    _, (s_X_test, s_y_test) = load_mnist()\n",
    "    \n",
    "    # The `evaluate` function will be called after every round\n",
    "    def evaluate(server_round, parameters: fl.common.NDArrays, config):\n",
    "        # Update model with the latest parameters\n",
    "        set_model_params(model, parameters)\n",
    "        loss = log_loss(s_y_test, model.predict_proba(s_X_test))\n",
    "        accuracy = model.score(s_X_test, s_y_test)\n",
    "        return loss, {\"accuracy\": accuracy}\n",
    "\n",
    "    return evaluate\n",
    "\n",
    "server_model = LogisticRegression()\n",
    "set_initial_params(server_model)\n",
    "\n",
    "strategy = fl.server.strategy.FedAvg(\n",
    "    min_available_clients=2,\n",
    "    evaluate_fn=get_evaluate_fn(server_model),\n",
    "    on_fit_config_fn=fit_round,\n",
    ")\n",
    "\n",
    "fl.simulation.start_simulation(\n",
    "    client_fn=client_fn,\n",
    "    num_clients=NUM_OF_CLIENTS,\n",
    "    strategy=strategy,\n",
    "    config=fl.server.ServerConfig(num_rounds=NUM_OF_ROUNDS),\n",
    "    \n",
    ")"
   ]
  },
  {
   "cell_type": "code",
   "execution_count": null,
   "id": "a92c296e",
   "metadata": {},
   "outputs": [],
   "source": []
  },
  {
   "cell_type": "code",
   "execution_count": null,
   "id": "ebe9f3c2",
   "metadata": {},
   "outputs": [],
   "source": []
  }
 ],
 "metadata": {
  "kernelspec": {
   "display_name": "Python 3.9.13 ('fedlearn')",
   "language": "python",
   "name": "python3"
  },
  "language_info": {
   "codemirror_mode": {
    "name": "ipython",
    "version": 3
   },
   "file_extension": ".py",
   "mimetype": "text/x-python",
   "name": "python",
   "nbconvert_exporter": "python",
   "pygments_lexer": "ipython3",
   "version": "3.9.13"
  },
  "vscode": {
   "interpreter": {
    "hash": "a1a946a741f3f6200957dccf23404636c747a9eb7c96c9668153385b834240fd"
   }
  }
 },
 "nbformat": 4,
 "nbformat_minor": 5
}
